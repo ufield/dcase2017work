{
 "cells": [
  {
   "cell_type": "code",
   "execution_count": 1,
   "metadata": {},
   "outputs": [
    {
     "name": "stderr",
     "output_type": "stream",
     "text": [
      "Using TensorFlow backend.\n"
     ]
    }
   ],
   "source": [
    "import os\n",
    "import sys\n",
    "\n",
    "import matplotlib.pyplot as plt\n",
    "\n",
    "import numpy as np\n",
    "import pandas as pd\n",
    "\n",
    "import tensorflow as tf\n",
    "from keras.models import load_model\n",
    "\n",
    "import tensorflow as tf \n",
    "import keras.backend as K \n",
    "K.tensorflow_backend.set_session(tf.Session(config=tf.ConfigProto(device_count = {'GPU': 0}))) \n"
   ]
  },
  {
   "cell_type": "code",
   "execution_count": 10,
   "metadata": {},
   "outputs": [
    {
     "data": {
      "text/plain": [
       "'/store/projects/ml/mathG/DCASE2017/baseline/DCASE2017-baseline-system/'"
      ]
     },
     "execution_count": 10,
     "metadata": {},
     "output_type": "execute_result"
    }
   ],
   "source": [
    "env = os.environ\n",
    "\n",
    "baseline_dir = env['DCASE_BASE']\n",
    "work_dir     = env['MYWORK_BASE']\n",
    "\n",
    "sys.path.append(baseline_dir)\n",
    "sys.path.append(work_dir)\n",
    "\n",
    "baseline_dir"
   ]
  },
  {
   "cell_type": "code",
   "execution_count": 11,
   "metadata": {},
   "outputs": [
    {
     "name": "stderr",
     "output_type": "stream",
     "text": [
      "/store/projects/ml/mathG/DCASE2017/baseline/DCASE2017-baseline-system/dcase_framework/files.py:379: YAMLLoadWarning: calling yaml.load() without Loader=... is deprecated, as the default Loader is unsafe. Please read https://msg.pyyaml.org/load for full details.\n",
      "  dict.update(self, yaml.load(infile))\n"
     ]
    }
   ],
   "source": [
    "from main.src.support.analyzer import CakirAnalyzer\n",
    "\n",
    "\n",
    "model_dir = work_dir + 'main/results/my_sample/learner/dataset_c17f65145b5c15a1a0afc148dc881423/feature_extractor_9138a38a27a1fe93ce9267c74b646c84/feature_normalizer_86c6764b339414c628793552d084ff29/feature_aggregator_baaf606d9ac1eaca43a6a24b599998a9/learner_35b914298a367b0dddb4dca085381e67/'\n",
    "\n",
    "# model_bc_fn = model_dir + 'model_fold1_babycry.model.hdf5'\n",
    "model_bc_fn = model_dir + 'model_fold1_babycry'\n",
    "model_gb_fn = model_dir + 'model_fold1_glassbreak'\n",
    "model_gs_fn = model_dir + 'model_fold1_gunshot'\n",
    "\n",
    "project_name= 'my_sample'\n",
    "set_id = 'crnn'\n",
    "\n",
    "ca = CakirAnalyzer(model_bc_fn, project_name, set_id)"
   ]
  },
  {
   "cell_type": "code",
   "execution_count": 12,
   "metadata": {},
   "outputs": [
    {
     "data": {
      "text/plain": [
       "array([[0.12293759, 0.14391139, 0.20913598, ..., 0.00042012, 0.00046927,\n",
       "        0.00056759]], dtype=float32)"
      ]
     },
     "execution_count": 12,
     "metadata": {},
     "output_type": "execute_result"
    }
   ],
   "source": [
    "feature_filename = baseline_dir + 'applications/system/task2/feature_extractor/dataset_c17f65145b5c15a1a0afc148dc881423/feature_extractor_57a55966f25a1b3722bd922a63c75875/sequence_mixture_devtest_babycry_000_c02f92b79f2bbefa98d008f3c2d9b704.cpickle'\n",
    "\n",
    "ca.predict(feature_filename)"
   ]
  },
  {
   "cell_type": "code",
   "execution_count": 13,
   "metadata": {},
   "outputs": [],
   "source": [
    "reshape_out = ca.mid_output(feature_filename, 'reshape_1')"
   ]
  },
  {
   "cell_type": "code",
   "execution_count": 14,
   "metadata": {},
   "outputs": [
    {
     "data": {
      "text/plain": [
       "array([[[0.        , 0.        , 0.2793548 , ..., 0.        ,\n",
       "         0.        , 0.        ],\n",
       "        [0.        , 0.        , 0.01055332, ..., 0.        ,\n",
       "         0.        , 0.        ],\n",
       "        [0.        , 0.        , 0.        , ..., 0.        ,\n",
       "         0.        , 0.        ],\n",
       "        ...,\n",
       "        [0.        , 0.        , 0.        , ..., 0.        ,\n",
       "         0.        , 0.        ],\n",
       "        [0.        , 0.        , 0.        , ..., 0.        ,\n",
       "         0.        , 0.        ],\n",
       "        [0.        , 0.        , 0.        , ..., 0.        ,\n",
       "         0.        , 0.        ]]], dtype=float32)"
      ]
     },
     "execution_count": 14,
     "metadata": {},
     "output_type": "execute_result"
    }
   ],
   "source": []
  },
  {
   "cell_type": "code",
   "execution_count": null,
   "metadata": {},
   "outputs": [],
   "source": []
  }
 ],
 "metadata": {
  "kernelspec": {
   "display_name": "Python 3",
   "language": "python",
   "name": "python3"
  },
  "language_info": {
   "codemirror_mode": {
    "name": "ipython",
    "version": 3
   },
   "file_extension": ".py",
   "mimetype": "text/x-python",
   "name": "python",
   "nbconvert_exporter": "python",
   "pygments_lexer": "ipython3",
   "version": "3.6.9"
  }
 },
 "nbformat": 4,
 "nbformat_minor": 4
}
