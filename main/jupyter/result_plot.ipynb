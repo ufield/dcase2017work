{
 "cells": [
  {
   "cell_type": "code",
   "execution_count": 1,
   "metadata": {},
   "outputs": [
    {
     "name": "stderr",
     "output_type": "stream",
     "text": [
      "Using TensorFlow backend.\n"
     ]
    }
   ],
   "source": [
    "import os\n",
    "import sys\n",
    "\n",
    "import matplotlib.pyplot as plt\n",
    "\n",
    "import numpy as np\n",
    "import pandas as pd\n",
    "\n",
    "import librosa\n",
    "import librosa.display\n",
    "\n",
    "import tensorflow as tf\n",
    "from keras.models import load_model\n",
    "\n",
    "import tensorflow as tf \n",
    "import keras.backend as K \n",
    "# K.tensorflow_backend.set_session(tf.Session(config=tf.ConfigProto(device_count = {'GPU': 0}))) \n"
   ]
  },
  {
   "cell_type": "code",
   "execution_count": 2,
   "metadata": {},
   "outputs": [],
   "source": [
    "threshold = 0.5\n",
    "dt = 30./1500.\n",
    "\n",
    "def make_result_plot(wav, predicted, gt_df, prd_df, fig_title='sample', save_fig=False, filename='sample.png'):\n",
    "    a, sr = librosa.load(wav)\n",
    "    # mel spectrogram\n",
    "    mel = librosa.feature.melspectrogram(y=a, sr=sr)\n",
    "    mel_dB = librosa.power_to_db(mel, ref=np.max)\n",
    "\n",
    "    # ===============================\n",
    "    gt_flag_start = gt_df['onset']\n",
    "    gt_flag_end   = gt_df['offset']\n",
    "\n",
    "    # ===============================\n",
    "    time_index = predicted.shape[0]\n",
    "    left = np.array(range(time_index))*dt\n",
    "\n",
    "    # ===============================\n",
    "\n",
    "    plt.rcParams[\"font.size\"] = 14\n",
    "    fig = plt.figure(figsize=(14, 10))\n",
    "\n",
    "    ax1 = fig.add_subplot(411)\n",
    "    disp = librosa.display.specshow(mel_dB, x_axis='time', y_axis='mel', sr=sr)\n",
    "    plt.title('Mel-frequency spectrogram')\n",
    "    cbaxes = fig.add_axes([0.9, 0.735, 0.01, 0.17]) \n",
    "    cb   = plt.colorbar(format='%+2.0f dB', cax=cbaxes)\n",
    "\n",
    "    ax2 = fig.add_subplot(412)\n",
    "    plt.bar(left, predicted, width=dt)\n",
    "    plt.plot([left[0], left[-1]],[0.5, 0.5], \"red\", linestyle='dashed') # normal way\n",
    "    plt.xlim(left[0], left[-1])\n",
    "    plt.ylim([0, 1])\n",
    "    plt.title('Probability')\n",
    "\n",
    "    ax3 = fig.add_subplot(413)\n",
    "    plt.tick_params(left=False)\n",
    "    plt.yticks(color=\"None\")\n",
    "    plt.title('Predicted')\n",
    "\n",
    "    for index, row in prd_df.iterrows():\n",
    "        flag_start = row[1]\n",
    "        flag_end   = row[2]    \n",
    "        testx = [flag_start, flag_end, flag_end, flag_start]\n",
    "        testy = [0,0,1,1]\n",
    "        plt.xlim([0, 30])\n",
    "        plt.ylim([0, 1])\n",
    "        plt.fill(testx,testy,color=\"blue\")\n",
    "\n",
    "\n",
    "    ax4 = fig.add_subplot(414)\n",
    "    plt.tick_params(left=False)\n",
    "    plt.yticks(color=\"None\")\n",
    "    plt.title('Ground Truth')\n",
    "    testx = [gt_flag_start, gt_flag_end, gt_flag_end, gt_flag_start]\n",
    "    testy = [0,0,1,1]\n",
    "    plt.xlim([0, 30])\n",
    "    plt.ylim([0, 1])\n",
    "    plt.fill(testx,testy,color=\"red\")\n",
    "\n",
    "    fig.tight_layout()\n",
    "\n",
    "    #幅をax2と同じにする\n",
    "    fig.canvas.draw()\n",
    "    axpos1 = ax1.get_position() # 上の図の描画領域\n",
    "    axpos2 = ax2.get_position() # 下の図の描画領域\n",
    "    axpos3 = ax3.get_position() # 下の図の描画領域\n",
    "    axpos4 = ax4.get_position() # 下の図の描画領域\n",
    "    width = axpos1.width - 0.1\n",
    "    ax1.set_position([axpos1.x0, axpos1.y0 - 0.05, width, axpos1.height])\n",
    "    ax2.set_position([axpos1.x0, axpos2.y0 - 0.05, width, axpos2.height])\n",
    "    ax3.set_position([axpos1.x0, 0.35, width, 0.03])\n",
    "    ax4.set_position([axpos1.x0, 0.23, width, 0.03])\n",
    "\n",
    "    fig.suptitle(fig_title, fontsize=20)\n",
    "    if save_fig:\n",
    "        plt.savefig(filename)\n",
    "    else:\n",
    "        plt.show()\n",
    "\n",
    "    plt.close(fig)\n"
   ]
  },
  {
   "cell_type": "code",
   "execution_count": 3,
   "metadata": {},
   "outputs": [],
   "source": [
    "env = os.environ\n",
    "\n",
    "baseline_dir = env['DCASE_BASE']\n",
    "work_dir     = env['MYWORK_BASE']\n",
    "\n",
    "sys.path.append(baseline_dir)\n",
    "sys.path.append(work_dir)\n",
    "\n",
    "from main.src.support.analyzer import CakirAnalyzer\n",
    "\n",
    "base_dir     = work_dir + '/data/TUT-rare-sound-events-2017-development/'\n",
    "feature_dir  = work_dir + '/main/results/my_sample/feature_extractor/dataset_c17f65145b5c15a1a0afc148dc881423/feature_extractor_00ba1657b4edcc51c91ce0d45910ebb5/'\n",
    "\n",
    "col_names = ['filename', 'onset', 'offset', 'label']\n",
    "# labels = ['babycry', 'gunshot', 'glassbreak']\n",
    "labels = ['glassbreak']\n",
    "\n",
    "project_name= 'my_sample'\n",
    "set_id = 'crnn'\n",
    "\n",
    "\n",
    "# Cakir Table1. units 96 --> 'eval_[5aa3cfc96be6061a47013f0c05ffeb3b].yaml'\n",
    "# model_dir = work_dir + 'main/results/my_sample/learner/dataset_c17f65145b5c15a1a0afc148dc881423/feature_extractor_9138a38a27a1fe93ce9267c74b646c84/feature_normalizer_86c6764b339414c628793552d084ff29/feature_aggregator_baaf606d9ac1eaca43a6a24b599998a9/learner_35b914298a367b0dddb4dca085381e67/'\n",
    "# recog_dir = work_dir + 'main/results/my_sample/recognizer/dataset_c17f65145b5c15a1a0afc148dc881423/feature_extractor_9138a38a27a1fe93ce9267c74b646c84/feature_normalizer_86c6764b339414c628793552d084ff29/feature_aggregator_baaf606d9ac1eaca43a6a24b599998a9/learner_35b914298a367b0dddb4dca085381e67/recognizer_c5143b74ef67d78e7a154ca3808faf4b/'\n",
    "# plot_basedir = '../../plots/predict_comparison/mixtures_devtest_0367e094f3f5c81ef017d128ebff4a3c/Cakir_T1U96/'\n",
    "\n",
    "# Cakir Table1. units 32 -->'eval_[ed4beb6d218c011b1888395c4b5f2aad].yaml'\n",
    "# model_dir = work_dir + 'main/results/my_sample/learner/dataset_c17f65145b5c15a1a0afc148dc881423/feature_extractor_9138a38a27a1fe93ce9267c74b646c84/feature_normalizer_86c6764b339414c628793552d084ff29/feature_aggregator_baaf606d9ac1eaca43a6a24b599998a9/learner_dc2acc4ef527864e2910eeeb8896a043/'\n",
    "# recog_dir = work_dir + 'main/results/my_sample/recognizer/dataset_c17f65145b5c15a1a0afc148dc881423/feature_extractor_9138a38a27a1fe93ce9267c74b646c84/feature_normalizer_86c6764b339414c628793552d084ff29/feature_aggregator_baaf606d9ac1eaca43a6a24b599998a9/learner_dc2acc4ef527864e2910eeeb8896a043/recognizer_c5143b74ef67d78e7a154ca3808faf4b/'\n",
    "# plot_basedir = '../../plots/predict_comparison/mixtures_devtest_0367e094f3f5c81ef017d128ebff4a3c/Cakir_T1U32/'\n",
    "\n",
    "# Cakir Table1. units 160 --> 'eval_[d96bdb1e551eba73fb75755375d7af3b].yaml'\n",
    "model_dir = work_dir + 'main/results/my_sample/learner/dataset_c17f65145b5c15a1a0afc148dc881423/feature_extractor_9138a38a27a1fe93ce9267c74b646c84/feature_normalizer_86c6764b339414c628793552d084ff29/feature_aggregator_baaf606d9ac1eaca43a6a24b599998a9/learner_419c1ef3fe8202709628e692f51ac957/'\n",
    "recog_dir = work_dir + 'main/results/my_sample/recognizer/dataset_c17f65145b5c15a1a0afc148dc881423/feature_extractor_9138a38a27a1fe93ce9267c74b646c84/feature_normalizer_86c6764b339414c628793552d084ff29/feature_aggregator_baaf606d9ac1eaca43a6a24b599998a9/learner_419c1ef3fe8202709628e692f51ac957/recognizer_c5143b74ef67d78e7a154ca3808faf4b/'\n",
    "plot_basedir = '../../plots/predict_comparison/mixtures_devtest_0367e094f3f5c81ef017d128ebff4a3c/Cakir_T1U160/'\n",
    "\n",
    "#=================================================\n",
    "### test\n",
    "# meta_babycry_prd = recog_dir + 'results_fold1_babycry.txt'\n",
    "# meta_babycry_gt  = base_dir + 'generated_data/mixtures_devtest_0367e094f3f5c81ef017d128ebff4a3c/meta/event_list_devtest_babycry.csv'\n",
    "\n",
    "# prd_df_bc = pd.read_csv(meta_babycry_prd, sep='\\t', header=None, names=col_names)\n",
    "# gt_df_bc  = pd.read_csv(meta_babycry_gt, sep='\\t', header=None, names=col_names)\n",
    "\n",
    "# prd_dfs = {'babycry': df_bc, 'gunshot': df_gs, 'glassbreak': df_gb}\n",
    "# gt_dfs = {'babycry': df_bc, 'gunshot': df_gs, 'glassbreak': df_gb}\n",
    "# model_bc_fn = model_dir + 'model_fold1_babycry.model.hdf5'\n",
    "# model_bc_fn = model_dir + 'model_fold1_babycry'\n",
    "\n",
    "\n"
   ]
  },
  {
   "cell_type": "code",
   "execution_count": 4,
   "metadata": {},
   "outputs": [
    {
     "name": "stderr",
     "output_type": "stream",
     "text": [
      "/store/projects/ml/mathG/DCASE2017/baseline/DCASE2017-baseline-system/dcase_framework/files.py:379: YAMLLoadWarning: calling yaml.load() without Loader=... is deprecated, as the default Loader is unsafe. Please read https://msg.pyyaml.org/load for full details.\n",
      "  dict.update(self, yaml.load(infile))\n"
     ]
    },
    {
     "name": "stdout",
     "output_type": "stream",
     "text": [
      "WARNING:tensorflow:From /home/hirotoshi/.pyenv/versions/anaconda3-2019.10/lib/python3.6/site-packages/keras/backend/tensorflow_backend.py:517: The name tf.placeholder is deprecated. Please use tf.compat.v1.placeholder instead.\n",
      "\n"
     ]
    },
    {
     "name": "stderr",
     "output_type": "stream",
     "text": [
      "WARNING:tensorflow:From /home/hirotoshi/.pyenv/versions/anaconda3-2019.10/lib/python3.6/site-packages/keras/backend/tensorflow_backend.py:517: The name tf.placeholder is deprecated. Please use tf.compat.v1.placeholder instead.\n",
      "\n"
     ]
    },
    {
     "name": "stdout",
     "output_type": "stream",
     "text": [
      "WARNING:tensorflow:From /home/hirotoshi/.pyenv/versions/anaconda3-2019.10/lib/python3.6/site-packages/keras/backend/tensorflow_backend.py:74: The name tf.get_default_graph is deprecated. Please use tf.compat.v1.get_default_graph instead.\n",
      "\n"
     ]
    },
    {
     "name": "stderr",
     "output_type": "stream",
     "text": [
      "WARNING:tensorflow:From /home/hirotoshi/.pyenv/versions/anaconda3-2019.10/lib/python3.6/site-packages/keras/backend/tensorflow_backend.py:74: The name tf.get_default_graph is deprecated. Please use tf.compat.v1.get_default_graph instead.\n",
      "\n"
     ]
    },
    {
     "name": "stdout",
     "output_type": "stream",
     "text": [
      "WARNING:tensorflow:From /home/hirotoshi/.pyenv/versions/anaconda3-2019.10/lib/python3.6/site-packages/keras/backend/tensorflow_backend.py:4185: The name tf.truncated_normal is deprecated. Please use tf.random.truncated_normal instead.\n",
      "\n"
     ]
    },
    {
     "name": "stderr",
     "output_type": "stream",
     "text": [
      "WARNING:tensorflow:From /home/hirotoshi/.pyenv/versions/anaconda3-2019.10/lib/python3.6/site-packages/keras/backend/tensorflow_backend.py:4185: The name tf.truncated_normal is deprecated. Please use tf.random.truncated_normal instead.\n",
      "\n"
     ]
    },
    {
     "name": "stdout",
     "output_type": "stream",
     "text": [
      "WARNING:tensorflow:From /home/hirotoshi/.pyenv/versions/anaconda3-2019.10/lib/python3.6/site-packages/keras/backend/tensorflow_backend.py:174: The name tf.get_default_session is deprecated. Please use tf.compat.v1.get_default_session instead.\n",
      "\n"
     ]
    },
    {
     "name": "stderr",
     "output_type": "stream",
     "text": [
      "WARNING:tensorflow:From /home/hirotoshi/.pyenv/versions/anaconda3-2019.10/lib/python3.6/site-packages/keras/backend/tensorflow_backend.py:174: The name tf.get_default_session is deprecated. Please use tf.compat.v1.get_default_session instead.\n",
      "\n"
     ]
    },
    {
     "name": "stdout",
     "output_type": "stream",
     "text": [
      "WARNING:tensorflow:From /home/hirotoshi/.pyenv/versions/anaconda3-2019.10/lib/python3.6/site-packages/keras/backend/tensorflow_backend.py:184: The name tf.ConfigProto is deprecated. Please use tf.compat.v1.ConfigProto instead.\n",
      "\n"
     ]
    },
    {
     "name": "stderr",
     "output_type": "stream",
     "text": [
      "WARNING:tensorflow:From /home/hirotoshi/.pyenv/versions/anaconda3-2019.10/lib/python3.6/site-packages/keras/backend/tensorflow_backend.py:184: The name tf.ConfigProto is deprecated. Please use tf.compat.v1.ConfigProto instead.\n",
      "\n"
     ]
    },
    {
     "name": "stdout",
     "output_type": "stream",
     "text": [
      "WARNING:tensorflow:From /home/hirotoshi/.pyenv/versions/anaconda3-2019.10/lib/python3.6/site-packages/keras/backend/tensorflow_backend.py:186: The name tf.Session is deprecated. Please use tf.compat.v1.Session instead.\n",
      "\n"
     ]
    },
    {
     "name": "stderr",
     "output_type": "stream",
     "text": [
      "WARNING:tensorflow:From /home/hirotoshi/.pyenv/versions/anaconda3-2019.10/lib/python3.6/site-packages/keras/backend/tensorflow_backend.py:186: The name tf.Session is deprecated. Please use tf.compat.v1.Session instead.\n",
      "\n"
     ]
    },
    {
     "name": "stdout",
     "output_type": "stream",
     "text": [
      "WARNING:tensorflow:From /home/hirotoshi/.pyenv/versions/anaconda3-2019.10/lib/python3.6/site-packages/keras/backend/tensorflow_backend.py:190: The name tf.global_variables is deprecated. Please use tf.compat.v1.global_variables instead.\n",
      "\n"
     ]
    },
    {
     "name": "stderr",
     "output_type": "stream",
     "text": [
      "WARNING:tensorflow:From /home/hirotoshi/.pyenv/versions/anaconda3-2019.10/lib/python3.6/site-packages/keras/backend/tensorflow_backend.py:190: The name tf.global_variables is deprecated. Please use tf.compat.v1.global_variables instead.\n",
      "\n"
     ]
    },
    {
     "name": "stdout",
     "output_type": "stream",
     "text": [
      "WARNING:tensorflow:From /home/hirotoshi/.pyenv/versions/anaconda3-2019.10/lib/python3.6/site-packages/keras/backend/tensorflow_backend.py:199: The name tf.is_variable_initialized is deprecated. Please use tf.compat.v1.is_variable_initialized instead.\n",
      "\n"
     ]
    },
    {
     "name": "stderr",
     "output_type": "stream",
     "text": [
      "WARNING:tensorflow:From /home/hirotoshi/.pyenv/versions/anaconda3-2019.10/lib/python3.6/site-packages/keras/backend/tensorflow_backend.py:199: The name tf.is_variable_initialized is deprecated. Please use tf.compat.v1.is_variable_initialized instead.\n",
      "\n"
     ]
    },
    {
     "name": "stdout",
     "output_type": "stream",
     "text": [
      "WARNING:tensorflow:From /home/hirotoshi/.pyenv/versions/anaconda3-2019.10/lib/python3.6/site-packages/keras/backend/tensorflow_backend.py:206: The name tf.variables_initializer is deprecated. Please use tf.compat.v1.variables_initializer instead.\n",
      "\n"
     ]
    },
    {
     "name": "stderr",
     "output_type": "stream",
     "text": [
      "WARNING:tensorflow:From /home/hirotoshi/.pyenv/versions/anaconda3-2019.10/lib/python3.6/site-packages/keras/backend/tensorflow_backend.py:206: The name tf.variables_initializer is deprecated. Please use tf.compat.v1.variables_initializer instead.\n",
      "\n"
     ]
    },
    {
     "name": "stdout",
     "output_type": "stream",
     "text": [
      "WARNING:tensorflow:From /home/hirotoshi/.pyenv/versions/anaconda3-2019.10/lib/python3.6/site-packages/keras/backend/tensorflow_backend.py:133: The name tf.placeholder_with_default is deprecated. Please use tf.compat.v1.placeholder_with_default instead.\n",
      "\n"
     ]
    },
    {
     "name": "stderr",
     "output_type": "stream",
     "text": [
      "WARNING:tensorflow:From /home/hirotoshi/.pyenv/versions/anaconda3-2019.10/lib/python3.6/site-packages/keras/backend/tensorflow_backend.py:133: The name tf.placeholder_with_default is deprecated. Please use tf.compat.v1.placeholder_with_default instead.\n",
      "\n"
     ]
    },
    {
     "name": "stdout",
     "output_type": "stream",
     "text": [
      "WARNING:tensorflow:From /home/hirotoshi/.pyenv/versions/anaconda3-2019.10/lib/python3.6/site-packages/keras/backend/tensorflow_backend.py:3445: calling dropout (from tensorflow.python.ops.nn_ops) with keep_prob is deprecated and will be removed in a future version.\n",
      "Instructions for updating:\n",
      "Please use `rate` instead of `keep_prob`. Rate should be set to `rate = 1 - keep_prob`.\n"
     ]
    },
    {
     "name": "stderr",
     "output_type": "stream",
     "text": [
      "WARNING:tensorflow:From /home/hirotoshi/.pyenv/versions/anaconda3-2019.10/lib/python3.6/site-packages/keras/backend/tensorflow_backend.py:3445: calling dropout (from tensorflow.python.ops.nn_ops) with keep_prob is deprecated and will be removed in a future version.\n",
      "Instructions for updating:\n",
      "Please use `rate` instead of `keep_prob`. Rate should be set to `rate = 1 - keep_prob`.\n"
     ]
    },
    {
     "name": "stdout",
     "output_type": "stream",
     "text": [
      "WARNING:tensorflow:From /home/hirotoshi/.pyenv/versions/anaconda3-2019.10/lib/python3.6/site-packages/keras/backend/tensorflow_backend.py:3976: The name tf.nn.max_pool is deprecated. Please use tf.nn.max_pool2d instead.\n",
      "\n"
     ]
    },
    {
     "name": "stderr",
     "output_type": "stream",
     "text": [
      "WARNING:tensorflow:From /home/hirotoshi/.pyenv/versions/anaconda3-2019.10/lib/python3.6/site-packages/keras/backend/tensorflow_backend.py:3976: The name tf.nn.max_pool is deprecated. Please use tf.nn.max_pool2d instead.\n",
      "\n"
     ]
    },
    {
     "name": "stdout",
     "output_type": "stream",
     "text": [
      "WARNING:tensorflow:From /home/hirotoshi/.pyenv/versions/anaconda3-2019.10/lib/python3.6/site-packages/keras/backend/tensorflow_backend.py:4138: The name tf.random_uniform is deprecated. Please use tf.random.uniform instead.\n",
      "\n"
     ]
    },
    {
     "name": "stderr",
     "output_type": "stream",
     "text": [
      "WARNING:tensorflow:From /home/hirotoshi/.pyenv/versions/anaconda3-2019.10/lib/python3.6/site-packages/keras/backend/tensorflow_backend.py:4138: The name tf.random_uniform is deprecated. Please use tf.random.uniform instead.\n",
      "\n"
     ]
    },
    {
     "name": "stdout",
     "output_type": "stream",
     "text": [
      "WARNING:tensorflow:From /home/hirotoshi/.pyenv/versions/anaconda3-2019.10/lib/python3.6/site-packages/keras/optimizers.py:790: The name tf.train.Optimizer is deprecated. Please use tf.compat.v1.train.Optimizer instead.\n",
      "\n"
     ]
    },
    {
     "name": "stderr",
     "output_type": "stream",
     "text": [
      "WARNING:tensorflow:From /home/hirotoshi/.pyenv/versions/anaconda3-2019.10/lib/python3.6/site-packages/keras/optimizers.py:790: The name tf.train.Optimizer is deprecated. Please use tf.compat.v1.train.Optimizer instead.\n",
      "\n"
     ]
    },
    {
     "name": "stdout",
     "output_type": "stream",
     "text": [
      "WARNING:tensorflow:From /home/hirotoshi/.pyenv/versions/anaconda3-2019.10/lib/python3.6/site-packages/keras/backend/tensorflow_backend.py:3376: The name tf.log is deprecated. Please use tf.math.log instead.\n",
      "\n"
     ]
    },
    {
     "name": "stderr",
     "output_type": "stream",
     "text": [
      "WARNING:tensorflow:From /home/hirotoshi/.pyenv/versions/anaconda3-2019.10/lib/python3.6/site-packages/keras/backend/tensorflow_backend.py:3376: The name tf.log is deprecated. Please use tf.math.log instead.\n",
      "\n"
     ]
    },
    {
     "name": "stdout",
     "output_type": "stream",
     "text": [
      "WARNING:tensorflow:From /home/hirotoshi/.pyenv/versions/anaconda3-2019.10/lib/python3.6/site-packages/tensorflow_core/python/ops/nn_impl.py:183: where (from tensorflow.python.ops.array_ops) is deprecated and will be removed in a future version.\n",
      "Instructions for updating:\n",
      "Use tf.where in 2.0, which has the same broadcast rule as np.where\n"
     ]
    },
    {
     "name": "stderr",
     "output_type": "stream",
     "text": [
      "WARNING:tensorflow:From /home/hirotoshi/.pyenv/versions/anaconda3-2019.10/lib/python3.6/site-packages/tensorflow_core/python/ops/nn_impl.py:183: where (from tensorflow.python.ops.array_ops) is deprecated and will be removed in a future version.\n",
      "Instructions for updating:\n",
      "Use tf.where in 2.0, which has the same broadcast rule as np.where\n"
     ]
    },
    {
     "name": "stdout",
     "output_type": "stream",
     "text": [
      "WARNING:tensorflow:From /home/hirotoshi/.pyenv/versions/anaconda3-2019.10/lib/python3.6/site-packages/keras/backend/tensorflow_backend.py:986: The name tf.assign_add is deprecated. Please use tf.compat.v1.assign_add instead.\n",
      "\n"
     ]
    },
    {
     "name": "stderr",
     "output_type": "stream",
     "text": [
      "WARNING:tensorflow:From /home/hirotoshi/.pyenv/versions/anaconda3-2019.10/lib/python3.6/site-packages/keras/backend/tensorflow_backend.py:986: The name tf.assign_add is deprecated. Please use tf.compat.v1.assign_add instead.\n",
      "\n"
     ]
    },
    {
     "name": "stdout",
     "output_type": "stream",
     "text": [
      "WARNING:tensorflow:From /home/hirotoshi/.pyenv/versions/anaconda3-2019.10/lib/python3.6/site-packages/keras/backend/tensorflow_backend.py:973: The name tf.assign is deprecated. Please use tf.compat.v1.assign instead.\n",
      "\n"
     ]
    },
    {
     "name": "stderr",
     "output_type": "stream",
     "text": [
      "WARNING:tensorflow:From /home/hirotoshi/.pyenv/versions/anaconda3-2019.10/lib/python3.6/site-packages/keras/backend/tensorflow_backend.py:973: The name tf.assign is deprecated. Please use tf.compat.v1.assign instead.\n",
      "\n",
      "/home/hirotoshi/.pyenv/versions/anaconda3-2019.10/lib/python3.6/site-packages/ipykernel_launcher.py:61: UserWarning: This figure includes Axes that are not compatible with tight_layout, so results might be incorrect.\n"
     ]
    }
   ],
   "source": [
    "# make plots\n",
    "\n",
    "for label in labels:\n",
    "    plot_dir = plot_basedir + label + '/'\n",
    "    if not(os.path.exists(plot_dir)):\n",
    "        os.makedirs(plot_dir)    \n",
    "    \n",
    "    meta_prd = recog_dir + 'results_fold1_' + label + '.txt'\n",
    "    meta_gt  = base_dir + 'generated_data/mixtures_devtest_0367e094f3f5c81ef017d128ebff4a3c/meta/event_list_devtest_' + label + '.csv'    \n",
    "    prd_df = pd.read_csv(meta_prd, sep='\\t', header=None, names=col_names)\n",
    "    gt_df  = pd.read_csv(meta_gt, sep='\\t', header=None, names=col_names)\n",
    "    \n",
    "    model_fn = model_dir + 'model_fold1_' + label\n",
    "    ca = CakirAnalyzer(model_fn, project_name, set_id)\n",
    "\n",
    "    for index, row in gt_df.iterrows():\n",
    "        wav_name = row[0]\n",
    "        wav = base_dir + wav_name\n",
    "\n",
    "        feature_filename = feature_dir + 'sequence_' + wav_name.split('/')[-1].split('.')[0] + '.cpickle'\n",
    "        predicted = ca.predict(feature_filename)[0]\n",
    "\n",
    "        this_gt_df = row\n",
    "        this_prd_df = prd_df[prd_df.filename == wav_name]\n",
    "        \n",
    "        title = label + '_test_' + str(index)\n",
    "        plot_finename = plot_dir + os.path.split(wav)[1].split('.')[0] + '.png'\n",
    "        \n",
    "#         make_result_plot(wav, predicted, this_gt_df, this_prd_df)\n",
    "        make_result_plot(wav, predicted, this_gt_df, this_prd_df, fig_title=title, save_fig=True, filename=plot_finename)"
   ]
  },
  {
   "cell_type": "code",
   "execution_count": 19,
   "metadata": {},
   "outputs": [
    {
     "data": {
      "text/plain": [
       "'/store/projects/ml/mathG/DCASE2017/myWork//main/results/my_sample/feature_extractor/dataset_c17f65145b5c15a1a0afc148dc881423/feature_extractor_00ba1657b4edcc51c91ce0d45910ebb5/sequence_mixture_devtest_babycry_000_c02f92b79f2bbefa98d008f3c2d9b704.cpickle'"
      ]
     },
     "execution_count": 19,
     "metadata": {},
     "output_type": "execute_result"
    }
   ],
   "source": [
    "feature_dir      = work_dir + '/main/results/my_sample/feature_extractor/dataset_c17f65145b5c15a1a0afc148dc881423/feature_extractor_00ba1657b4edcc51c91ce0d45910ebb5/'\n",
    "feature_filename = feature_dir + 'sequence_' + 'mixture_devtest_babycry_000_c02f92b79f2bbefa98d008f3c2d9b704.cpickle'\n",
    "\n",
    "feature_filename"
   ]
  },
  {
   "cell_type": "code",
   "execution_count": 26,
   "metadata": {},
   "outputs": [
    {
     "data": {
      "text/plain": [
       "'mixture_devtest_babycry_000_c02f92b79f2bbefa98d008f3c2d9b704'"
      ]
     },
     "execution_count": 26,
     "metadata": {},
     "output_type": "execute_result"
    }
   ],
   "source": [
    "a = meta_prd_df['filename'][0]\n",
    "a.split('/')[-1].split('.')[0]"
   ]
  },
  {
   "cell_type": "code",
   "execution_count": null,
   "metadata": {},
   "outputs": [],
   "source": []
  }
 ],
 "metadata": {
  "kernelspec": {
   "display_name": "Python 3",
   "language": "python",
   "name": "python3"
  },
  "language_info": {
   "codemirror_mode": {
    "name": "ipython",
    "version": 3
   },
   "file_extension": ".py",
   "mimetype": "text/x-python",
   "name": "python",
   "nbconvert_exporter": "python",
   "pygments_lexer": "ipython3",
   "version": "3.6.9"
  }
 },
 "nbformat": 4,
 "nbformat_minor": 4
}
