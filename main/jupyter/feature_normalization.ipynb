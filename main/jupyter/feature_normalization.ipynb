{
 "cells": [
  {
   "cell_type": "code",
   "execution_count": 1,
   "metadata": {},
   "outputs": [],
   "source": [
    "# task2.py を逐次実行してみて中身を把握する\n",
    "\n",
    "import sys\n",
    "import os\n",
    "\n",
    "import numpy as np\n",
    "import argparse\n",
    "import textwrap\n",
    "\n",
    "\n",
    "import librosa\n",
    "import librosa.display\n",
    "import matplotlib.pyplot as plt\n",
    "import matplotlib.cm as cm\n",
    "from mpl_toolkits.axes_grid1 import make_axes_locatable\n",
    "\n",
    "sys.path.append('/store/projects/ml/mathG/DCASE2017/baseline/DCASE2017-baseline-system/')\n",
    "\n",
    "from dcase_framework.application_core import BinarySoundEventAppCore\n",
    "from dcase_framework.parameters import ParameterContainer\n",
    "from dcase_framework.utils import *\n",
    "from dcase_framework.features import FeatureContainer, FeatureRepository, FeatureExtractor, FeatureNormalizer, \\\n",
    "    FeatureStacker, FeatureAggregator, FeatureMasker\n"
   ]
  },
  {
   "cell_type": "code",
   "execution_count": 2,
   "metadata": {},
   "outputs": [
    {
     "data": {
      "text/plain": [
       "{}"
      ]
     },
     "execution_count": 2,
     "metadata": {},
     "output_type": "execute_result"
    }
   ],
   "source": [
    "project_base=os.path.dirname(os.path.realpath('../../baseline/DCASE2017-baseline-system/applications/system/'))\n",
    "\n",
    "\n",
    "params = ParameterContainer(\n",
    "    project_base=project_base,\n",
    "    path_structure={\n",
    "        'feature_extractor': [\n",
    "            'dataset',\n",
    "            'feature_extractor.parameters.*'\n",
    "        ],\n",
    "        'feature_normalizer': [\n",
    "            'dataset',\n",
    "            'feature_extractor.parameters.*'\n",
    "        ],\n",
    "        'learner': [\n",
    "            'dataset',\n",
    "            'feature_extractor',\n",
    "            'feature_stacker',\n",
    "            'feature_normalizer',\n",
    "            'feature_aggregator',\n",
    "            'learner'\n",
    "        ],\n",
    "        'recognizer': [\n",
    "            'dataset',\n",
    "            'feature_extractor',\n",
    "            'feature_stacker',\n",
    "            'feature_normalizer',\n",
    "            'feature_aggregator',\n",
    "            'learner',\n",
    "            'recognizer'\n",
    "        ],\n",
    "    }\n",
    ")\n",
    "\n",
    "params"
   ]
  },
  {
   "cell_type": "code",
   "execution_count": 3,
   "metadata": {},
   "outputs": [
    {
     "name": "stderr",
     "output_type": "stream",
     "text": [
      "/store/projects/ml/mathG/DCASE2017/baseline/DCASE2017-baseline-system/dcase_framework/files.py:379: YAMLLoadWarning: calling yaml.load() without Loader=... is deprecated, as the default Loader is unsafe. Please read https://msg.pyyaml.org/load for full details.\n",
      "  dict.update(self, yaml.load(infile))\n"
     ]
    }
   ],
   "source": [
    "params.load(filename=project_base + '/parameters/task2.defaults.yaml')\n",
    "params['active_set'] = 'dcase2017_gpu'\n",
    "params.process() # 実行用のパラメータ構造に変える？\n",
    "\n",
    "\n",
    "setup_logging(parameter_container=params['logging'])\n",
    "#app.show_parameters()"
   ]
  },
  {
   "cell_type": "code",
   "execution_count": 4,
   "metadata": {},
   "outputs": [
    {
     "name": "stderr",
     "output_type": "stream",
     "text": [
      "[I] DCASE 2017::Detection of rare sound events / Baseline System\n",
      "[I] \n"
     ]
    }
   ],
   "source": [
    "class Task2AppCore(BinarySoundEventAppCore):\n",
    "    pass\n",
    "\n",
    "app = Task2AppCore(\n",
    "    name='DCASE 2017::Detection of rare sound events / Baseline System',\n",
    "    params=params,\n",
    "    system_desc=params.get('description'),\n",
    "    system_parameter_set_id=params.get('active_set'),\n",
    "    setup_label='Development setup',\n",
    "    log_system_progress=params.get_path('general.log_system_progress'),\n",
    "    show_progress_in_console=params.get_path('general.print_system_progress'),\n",
    "    use_ascii_progress_bar=params.get_path('general.use_ascii_progress_bar')\n",
    ")\n",
    "\n",
    "# app.initialize()"
   ]
  },
  {
   "cell_type": "code",
   "execution_count": 5,
   "metadata": {},
   "outputs": [
    {
     "name": "stderr",
     "output_type": "stream",
     "text": [
      "[I] Feature normalizer\n",
      "[I] ==================================================\n",
      "[I] \n"
     ]
    },
    {
     "name": "stdout",
     "output_type": "stream",
     "text": [
      "           Fold           :   0%|          | 0/1 [00:00<?, ?it/s]\n",
      "           Feature method :   0%|          | 0/1 [00:00<?, ?it/s]\u001b[A\n",
      "                                                                 \u001b[A\n",
      "           Feature method :   0%|          | 0/1 [00:00<?, ?it/s]\u001b[A\n",
      "                                                                 \u001b[A\n",
      "           Feature method :   0%|          | 0/1 [00:00<?, ?it/s]\u001b[A\n",
      "                                                                 \u001b[A"
     ]
    },
    {
     "name": "stderr",
     "output_type": "stream",
     "text": [
      "[I]   DONE     [0:00:00.020553 ] \n",
      "[I] \n"
     ]
    },
    {
     "name": "stdout",
     "output_type": "stream",
     "text": [
      "\r"
     ]
    }
   ],
   "source": [
    "app.feature_normalization()"
   ]
  },
  {
   "cell_type": "code",
   "execution_count": 17,
   "metadata": {},
   "outputs": [
    {
     "name": "stdout",
     "output_type": "stream",
     "text": [
      "           Fold           :   0%|          | 0/1 [00:00<?, ?it/s]\n",
      "           Feature method :   0%|          | 0/1 [00:00<?, ?it/s]\u001b[A\n",
      "\n",
      "             Collect data :   0%|          | 0/491 \u001b[A\u001b[A\n",
      "\n",
      "             Collect data :   4%|▎         | 18/491 \u001b[A\u001b[A\n",
      "\n",
      "             Collect data :   9%|▉         | 43/491 \u001b[A\u001b[A\n",
      "\n",
      "             Collect data :  13%|█▎        | 66/491 \u001b[A\u001b[A\n",
      "\n",
      "             Collect data :  16%|█▋        | 81/491 \u001b[A\u001b[A\n",
      "\n",
      "             Collect data :  22%|██▏       | 106/491 \u001b[A\u001b[A\n",
      "\n",
      "             Collect data :  26%|██▋       | 129/491 \u001b[A\u001b[A\n",
      "\n",
      "             Collect data :  31%|███▏      | 154/491 \u001b[A\u001b[A\n",
      "\n",
      "             Collect data :  36%|███▌      | 175/491 \u001b[A\u001b[A\n",
      "\n",
      "             Collect data :  40%|███▉      | 195/491 \u001b[A\u001b[A\n",
      "\n",
      "             Collect data :  44%|████▍     | 218/491 \u001b[A\u001b[A\n",
      "\n",
      "             Collect data :  50%|████▉     | 244/491 \u001b[A\u001b[A\n",
      "\n",
      "             Collect data :  55%|█████▍    | 269/491 \u001b[A\u001b[A\n",
      "\n",
      "             Collect data :  59%|█████▉    | 292/491 \u001b[A\u001b[A\n",
      "\n",
      "             Collect data :  64%|██████▍   | 316/491 \u001b[A\u001b[A\n",
      "\n",
      "             Collect data :  69%|██████▉   | 341/491 \u001b[A\u001b[A\n",
      "\n",
      "             Collect data :  75%|███████▍  | 367/491 \u001b[A\u001b[A\n",
      "\n",
      "             Collect data :  80%|███████▉  | 392/491 \u001b[A\u001b[A\n",
      "\n",
      "             Collect data :  85%|████████▍ | 417/491 \u001b[A\u001b[A\n",
      "\n",
      "             Collect data :  90%|█████████ | 442/491 \u001b[A\u001b[A\n",
      "\n",
      "             Collect data :  95%|█████████▍| 466/491 \u001b[A\u001b[A\n",
      "\n",
      "             Collect data : 100%|█████████▉| 489/491 \u001b[A\u001b[A\n",
      "\n",
      "                                                     \u001b[A\u001b[A\n",
      "           Feature method : 100%|██████████| 1/1 [00:02<00:00,  2.24s/it]\u001b[A\n",
      "                                                                         \u001b[A\r"
     ]
    }
   ],
   "source": [
    "from tqdm import tqdm\n",
    "\n",
    "fold_progress = tqdm(app._get_active_folds(),\n",
    "                     desc='           {0:<15s}'.format('Fold '),\n",
    "                     file=sys.stdout,\n",
    "                     leave=False,\n",
    "                     miniters=1,\n",
    "                     disable=app.disable_progress_bar,\n",
    "                     ascii=app.use_ascii_progress_bar)\n",
    "\n",
    "\n",
    "for fold in fold_progress:\n",
    "    if app.log_system_progress:\n",
    "        app.logger.info('  {title:<15s} [{fold:d}/{total:d}]'.format(\n",
    "            title='Fold',\n",
    "            fold=fold,\n",
    "            total=len(fold_progress))\n",
    "        )\n",
    "\n",
    "    event_labels = app.dataset.event_labels\n",
    "    # Select only active events\n",
    "    if app.params.get_path('feature_normalizer.active_events'):\n",
    "        event_labels = list(\n",
    "            set(event_labels).intersection(\n",
    "                app.params.get_path('feature_normalizer.active_events')\n",
    "            )\n",
    "        )\n",
    "\n",
    "    event_labels = ['babycry']\n",
    "    for event_label in event_labels:\n",
    "        current_normalizer_files = app._get_feature_normalizer_filename(\n",
    "            fold=fold,\n",
    "            path=app.params.get_path('path.feature_normalizer'),\n",
    "            event_label=event_label\n",
    "        )\n",
    "\n",
    "        method_progress = tqdm(current_normalizer_files,\n",
    "                               desc='           {0: >15s}'.format('Feature method '),\n",
    "                               file=sys.stdout,\n",
    "                               leave=False,\n",
    "                               miniters=1,\n",
    "                               disable=app.disable_progress_bar,\n",
    "                               ascii=app.use_ascii_progress_bar)\n",
    "\n",
    "        for method in method_progress:\n",
    "            current_normalizer_file = current_normalizer_files[method]\n",
    "#             if not os.path.isfile(current_normalizer_file) or overwrite:\n",
    "\n",
    "            normalizer = FeatureNormalizer()\n",
    "            item_progress = tqdm(app.dataset.train(fold, event_label=event_label).file_list,\n",
    "                                 desc=\"           {0: >15s}\".format('Collect data '),\n",
    "                                 file=sys.stdout,\n",
    "                                 leave=False,\n",
    "                                 bar_format='{l_bar}{bar}| {n_fmt}/{total_fmt} ',\n",
    "                                 disable=app.disable_progress_bar,\n",
    "                                 ascii=app.use_ascii_progress_bar\n",
    "                                 )\n",
    "\n",
    "            for item_id, audio_filename in enumerate(item_progress):\n",
    "                feature_filename = app._get_feature_filename(\n",
    "                    audio_file=audio_filename,\n",
    "                    path=app.params.get_path('path.feature_extractor', {})[method]\n",
    "                )\n",
    "\n",
    "                if app.log_system_progress:\n",
    "                    app.logger.info(\n",
    "                        '  {title:<15s} [{item_id:d}/{total:d}] {file:<30s}'.format(\n",
    "                            title='Item',\n",
    "                            item_id=item_id,\n",
    "                            total=len(item_progress),\n",
    "                            file=os.path.split(feature_filename)[-1])\n",
    "                        )\n",
    "\n",
    "                if os.path.isfile(feature_filename):\n",
    "                    feature_stats = FeatureContainer(filename=feature_filename)\n",
    "                else:\n",
    "                    message = '{name}: Features not found [{file}]'.format(\n",
    "                        name=app.__class__.__name__,\n",
    "                        file=audio_filename\n",
    "                    )\n",
    "\n",
    "                    app.logger.exception(message)\n",
    "                    raise IOError(message)\n",
    "\n",
    "                # Accumulate statistics\n",
    "                normalizer.accumulate(feature_stats)\n",
    "\n",
    "            # Calculate normalization factors\n",
    "            normalizer.finalize().save(filename=current_normalizer_file)\n",
    "\n"
   ]
  },
  {
   "cell_type": "code",
   "execution_count": 18,
   "metadata": {},
   "outputs": [
    {
     "data": {
      "text/plain": [
       "{'N': [736991],\n",
       " 'S1': [array([-3292190.8, -4026356.2, -4472570.5, -4745850.5, -4942060. ,\n",
       "         -5099277. , -5200330. , -5255644. , -5305462.5, -5342108.5,\n",
       "         -5377323. , -5439035.5, -5517021. , -5615883. , -5690855. ,\n",
       "         -5754645.5, -5805114. , -5868702. , -5969166. , -6124990.5,\n",
       "         -6303076. , -6380403. , -6374980.5, -6379427.5, -6430474. ,\n",
       "         -6508635.5, -6636735. , -6854361.5, -7119328.5, -7410141. ,\n",
       "         -7669264.5, -7719746. , -7822984. , -7983160.5, -8139666. ,\n",
       "         -8236034.5, -8321340. , -8400945. , -8514879. , -8700120. ],\n",
       "        dtype=float32)],\n",
       " 'S2': [array([1.6203981e+07, 2.3420178e+07, 2.8299246e+07, 3.1692934e+07,\n",
       "         3.4262720e+07, 3.6422732e+07, 3.7817892e+07, 3.8612344e+07,\n",
       "         3.9364464e+07, 3.9930236e+07, 4.0444484e+07, 4.1296988e+07,\n",
       "         4.2447904e+07, 4.3916120e+07, 4.5066848e+07, 4.6057500e+07,\n",
       "         4.6855248e+07, 4.7878912e+07, 4.9524548e+07, 5.2071980e+07,\n",
       "         5.5020008e+07, 5.6343892e+07, 5.6236436e+07, 5.6324860e+07,\n",
       "         5.7214412e+07, 5.8571796e+07, 6.0843508e+07, 6.4778808e+07,\n",
       "         6.9732720e+07, 7.5358512e+07, 8.0591584e+07, 8.1651152e+07,\n",
       "         8.3800544e+07, 8.7195104e+07, 9.0556904e+07, 9.2641736e+07,\n",
       "         9.4493968e+07, 9.6246088e+07, 9.8801120e+07, 1.0319832e+08],\n",
       "        dtype=float32)],\n",
       " 'mean': [array([[ -4.46707049,  -5.46323666,  -6.0686908 ,  -6.43949587,\n",
       "           -6.70572639,  -6.91904921,  -7.05616486,  -7.1312187 ,\n",
       "           -7.19881586,  -7.24853967,  -7.29632112,  -7.38005688,\n",
       "           -7.48587296,  -7.62001571,  -7.72174287,  -7.8082982 ,\n",
       "           -7.87677733,  -7.96305789,  -8.09937435,  -8.31080773,\n",
       "           -8.55244637,  -8.65736895,  -8.65001133,  -8.65604532,\n",
       "           -8.72530872,  -8.83136361,  -9.00517781,  -9.30046839,\n",
       "           -9.65999381, -10.05458818, -10.40618474, -10.47468151,\n",
       "          -10.61476192, -10.83210039, -11.0444578 , -11.1752172 ,\n",
       "          -11.29096556, -11.39897909, -11.55357257, -11.80492028]])],\n",
       " 'std': [array([[1.42546776, 1.38965938, 1.25273813, 1.23937186, 1.23419936,\n",
       "          1.24403579, 1.23468766, 1.24000028, 1.26073813, 1.28014045,\n",
       "          1.28123099, 1.25273737, 1.24817419, 1.23441073, 1.23470039,\n",
       "          1.23469035, 1.23806204, 1.24703891, 1.26429547, 1.25909389,\n",
       "          1.22906058, 1.22524646, 1.21768742, 1.22405737, 1.22532875,\n",
       "          1.21706765, 1.20971985, 1.18221325, 1.14134374, 1.07557669,\n",
       "          1.03126883, 1.03486122, 1.01644807, 0.98889233, 0.94540021,\n",
       "          0.90398646, 0.85440119, 0.81029652, 0.75835473, 0.81879559]])]}"
      ]
     },
     "execution_count": 18,
     "metadata": {},
     "output_type": "execute_result"
    }
   ],
   "source": [
    "normalizer"
   ]
  },
  {
   "cell_type": "code",
   "execution_count": 15,
   "metadata": {},
   "outputs": [
    {
     "data": {
      "text/plain": [
       "{'feat': [array([[ -5.002877 ,  -7.204636 ,  -7.887638 , ..., -11.675259 ,\n",
       "          -11.7941675, -12.186553 ],\n",
       "         [ -4.816158 ,  -6.169664 ,  -6.6384535, ..., -11.342943 ,\n",
       "          -11.678137 , -12.109688 ],\n",
       "         [ -4.704848 ,  -5.784425 ,  -6.270282 , ..., -11.4215975,\n",
       "          -11.667576 , -12.06991  ],\n",
       "         ...,\n",
       "         [ -5.7667813,  -5.778595 ,  -6.9095564, ..., -11.737999 ,\n",
       "          -11.727472 , -12.06486  ],\n",
       "         [ -5.7177258,  -6.202236 ,  -6.744507 , ..., -11.686974 ,\n",
       "          -11.807487 , -12.002305 ],\n",
       "         [ -6.074368 ,  -6.2238717,  -7.357516 , ..., -11.659121 ,\n",
       "          -11.758827 , -12.153561 ]], dtype=float32)],\n",
       " 'stat': [{'mean': array([ -5.9018297,  -6.648721 ,  -7.010212 ,  -7.670514 ,  -7.8915057,\n",
       "           -8.124262 ,  -8.314808 ,  -8.436348 ,  -8.459042 ,  -8.592465 ,\n",
       "           -8.511891 ,  -8.298835 ,  -8.5117445,  -8.747477 ,  -8.881645 ,\n",
       "           -8.932578 ,  -9.116269 ,  -9.237127 ,  -9.38967  ,  -9.622303 ,\n",
       "           -9.959391 , -10.116177 , -10.211968 , -10.240198 , -10.335711 ,\n",
       "          -10.465083 , -10.705784 , -10.930149 , -11.093262 , -11.157274 ,\n",
       "          -11.296007 , -11.331135 , -11.3883505, -11.461081 , -11.5589075,\n",
       "          -11.599906 , -11.530285 , -11.659917 , -11.733461 , -12.108415 ],\n",
       "         dtype=float32),\n",
       "   'std': array([0.41234455, 0.3091102 , 0.30733904, 0.33397326, 0.33475372,\n",
       "          0.33133006, 0.36761472, 0.403535  , 0.42201808, 0.42376354,\n",
       "          0.45861825, 0.44437084, 0.41937432, 0.43717244, 0.4395296 ,\n",
       "          0.42835543, 0.4160526 , 0.41247064, 0.43830016, 0.47490448,\n",
       "          0.47361395, 0.45187443, 0.45535955, 0.45626384, 0.4384342 ,\n",
       "          0.4252729 , 0.4097985 , 0.39127237, 0.34866837, 0.28327852,\n",
       "          0.24542125, 0.2740154 , 0.22841711, 0.17627321, 0.12947771,\n",
       "          0.11470396, 0.10856596, 0.10249501, 0.08140022, 0.07489517],\n",
       "         dtype=float32),\n",
       "   'N': 1501,\n",
       "   'S1': array([ -8858.646 ,  -9979.73  , -10522.328 , -11513.441 , -11845.15  ,\n",
       "          -12194.518 , -12480.527 , -12662.959 , -12697.021 , -12897.29  ,\n",
       "          -12776.349 , -12456.551 , -12776.129 , -13129.962 , -13331.35  ,\n",
       "          -13407.8   , -13683.5205, -13864.928 , -14093.895 , -14443.076 ,\n",
       "          -14949.045 , -15184.381 , -15328.164 , -15370.537 , -15513.901 ,\n",
       "          -15708.09  , -16069.381 , -16406.154 , -16650.986 , -16747.068 ,\n",
       "          -16955.307 , -17008.033 , -17093.914 , -17203.082 , -17349.92  ,\n",
       "          -17411.459 , -17306.957 , -17501.535 , -17611.926 , -18174.73  ],\n",
       "         dtype=float32),\n",
       "   'S2': array([ 52537.445,  66495.875,  73905.52 ,  88481.43 ,  93644.3  ,\n",
       "           99236.23 , 103976.03 , 107073.56 , 107671.95 , 111089.06 ,\n",
       "          109066.59 , 103671.24 , 109011.14 , 115140.89 , 118694.28 ,\n",
       "          120041.64 , 125002.484, 128327.46 , 132625.36 , 139314.19 ,\n",
       "          149220.08 , 153914.36 , 156841.97 , 157709.81 , 160635.72 ,\n",
       "          164657.95 , 172287.38 , 179551.52 , 184896.25 , 186972.1  ,\n",
       "          191617.66 , 192833.03 , 194749.81 , 197212.52 , 200571.28 ,\n",
       "          201991.03 , 199571.81 , 204082.22 , 206658.84 , 220075.61 ],\n",
       "         dtype=float32)}],\n",
       " 'meta': {'parameters': {'mono': True,\n",
       "   'window': 'hamming_asymmetric',\n",
       "   'spectrogram_type': 'magnitude',\n",
       "   'n_mels': 40,\n",
       "   'normalize_mel_bands': False,\n",
       "   'n_fft': 2048,\n",
       "   'fmin': 0,\n",
       "   'fmax': 22050,\n",
       "   'htk': False,\n",
       "   'log': True,\n",
       "   'fs': 44100,\n",
       "   'win_length_samples': 1764,\n",
       "   'hop_length_samples': 882,\n",
       "   'method': 'mel',\n",
       "   'win_length_seconds': 0.04,\n",
       "   'hop_length_seconds': 0.02,\n",
       "   '_hash': '57a55966f25a1b3722bd922a63c75875'},\n",
       "  'datetime': '2019-12-29 06:09:46',\n",
       "  'audio_file': '/store/projects/ml/mathG/DCASE2017/baseline/DCASE2017-baseline-system/applications/data/TUT-rare-sound-events-2017-development/generated_data/mixtures_devtrain_0367e094f3f5c81ef017d128ebff4a3c/audio/mixture_devtrain_gunshot_499_540db42d3da254d22ee9e4ad0361cb00.wav',\n",
       "  'extractor_version': '0.0.1'}}"
      ]
     },
     "execution_count": 15,
     "metadata": {},
     "output_type": "execute_result"
    }
   ],
   "source": [
    "feature_stats"
   ]
  },
  {
   "cell_type": "code",
   "execution_count": null,
   "metadata": {},
   "outputs": [],
   "source": []
  }
 ],
 "metadata": {
  "kernelspec": {
   "display_name": "Python 3",
   "language": "python",
   "name": "python3"
  },
  "language_info": {
   "codemirror_mode": {
    "name": "ipython",
    "version": 3
   },
   "file_extension": ".py",
   "mimetype": "text/x-python",
   "name": "python",
   "nbconvert_exporter": "python",
   "pygments_lexer": "ipython3",
   "version": "3.6.9"
  }
 },
 "nbformat": 4,
 "nbformat_minor": 4
}
