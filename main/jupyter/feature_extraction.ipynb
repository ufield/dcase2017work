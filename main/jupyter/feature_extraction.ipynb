{
 "cells": [
  {
   "cell_type": "code",
   "execution_count": 15,
   "metadata": {},
   "outputs": [],
   "source": [
    "# task2.py を逐次実行してみて中身を把握する\n",
    "\n",
    "import sys\n",
    "import os\n",
    "\n",
    "import numpy as np\n",
    "import argparse\n",
    "import textwrap\n",
    "\n",
    "\n",
    "import librosa\n",
    "import librosa.display\n",
    "import matplotlib.pyplot as plt\n",
    "import matplotlib.cm as cm\n",
    "from mpl_toolkits.axes_grid1 import make_axes_locatable\n",
    "\n",
    "sys.path.append('/store/projects/ml/mathG/DCASE2017/baseline/DCASE2017-baseline-system/')\n",
    "\n",
    "from dcase_framework.application_core import BinarySoundEventAppCore\n",
    "from dcase_framework.parameters import ParameterContainer\n",
    "from dcase_framework.utils import *\n",
    "from dcase_framework.features import FeatureContainer, FeatureRepository, FeatureExtractor, FeatureNormalizer, \\\n",
    "    FeatureStacker, FeatureAggregator, FeatureMasker\n"
   ]
  },
  {
   "cell_type": "code",
   "execution_count": 2,
   "metadata": {},
   "outputs": [
    {
     "data": {
      "text/plain": [
       "{}"
      ]
     },
     "execution_count": 2,
     "metadata": {},
     "output_type": "execute_result"
    }
   ],
   "source": [
    "project_base=os.path.dirname(os.path.realpath('../../baseline/DCASE2017-baseline-system/applications/system/'))\n",
    "\n",
    "\n",
    "params = ParameterContainer(\n",
    "    project_base=project_base,\n",
    "    path_structure={\n",
    "        'feature_extractor': [\n",
    "            'dataset',\n",
    "            'feature_extractor.parameters.*'\n",
    "        ],\n",
    "        'feature_normalizer': [\n",
    "            'dataset',\n",
    "            'feature_extractor.parameters.*'\n",
    "        ],\n",
    "        'learner': [\n",
    "            'dataset',\n",
    "            'feature_extractor',\n",
    "            'feature_stacker',\n",
    "            'feature_normalizer',\n",
    "            'feature_aggregator',\n",
    "            'learner'\n",
    "        ],\n",
    "        'recognizer': [\n",
    "            'dataset',\n",
    "            'feature_extractor',\n",
    "            'feature_stacker',\n",
    "            'feature_normalizer',\n",
    "            'feature_aggregator',\n",
    "            'learner',\n",
    "            'recognizer'\n",
    "        ],\n",
    "    }\n",
    ")\n",
    "\n",
    "params"
   ]
  },
  {
   "cell_type": "code",
   "execution_count": 3,
   "metadata": {},
   "outputs": [
    {
     "name": "stderr",
     "output_type": "stream",
     "text": [
      "/store/projects/ml/mathG/DCASE2017/baseline/DCASE2017-baseline-system/dcase_framework/files.py:379: YAMLLoadWarning: calling yaml.load() without Loader=... is deprecated, as the default Loader is unsafe. Please read https://msg.pyyaml.org/load for full details.\n",
      "  dict.update(self, yaml.load(infile))\n"
     ]
    }
   ],
   "source": [
    "params.load(filename=project_base + '/parameters/task2.defaults.yaml')\n",
    "params['active_set'] = 'dcase2017_gpu'\n",
    "params.process() # 実行用のパラメータ構造に変える？\n",
    "\n",
    "\n",
    "setup_logging(parameter_container=params['logging'])\n",
    "#app.show_parameters()"
   ]
  },
  {
   "cell_type": "code",
   "execution_count": 4,
   "metadata": {},
   "outputs": [
    {
     "name": "stderr",
     "output_type": "stream",
     "text": [
      "[I] DCASE 2017::Detection of rare sound events / Baseline System\n",
      "[I] \n"
     ]
    }
   ],
   "source": [
    "class Task2AppCore(BinarySoundEventAppCore):\n",
    "    pass\n",
    "\n",
    "app = Task2AppCore(\n",
    "    name='DCASE 2017::Detection of rare sound events / Baseline System',\n",
    "    params=params,\n",
    "    system_desc=params.get('description'),\n",
    "    system_parameter_set_id=params.get('active_set'),\n",
    "    setup_label='Development setup',\n",
    "    log_system_progress=params.get_path('general.log_system_progress'),\n",
    "    show_progress_in_console=params.get_path('general.print_system_progress'),\n",
    "    use_ascii_progress_bar=params.get_path('general.use_ascii_progress_bar')\n",
    ")\n",
    "\n",
    "# app.initialize()"
   ]
  },
  {
   "cell_type": "code",
   "execution_count": 18,
   "metadata": {},
   "outputs": [
    {
     "name": "stdout",
     "output_type": "stream",
     "text": [
      "                                                                                    \r"
     ]
    },
    {
     "data": {
      "text/plain": [
       "{'mfcc': {'mono': True,\n",
       "  'window': 'hamming_asymmetric',\n",
       "  'spectrogram_type': 'magnitude',\n",
       "  'n_mfcc': 20,\n",
       "  'n_mels': 40,\n",
       "  'n_fft': 2048,\n",
       "  'fmin': 0,\n",
       "  'fmax': 22050,\n",
       "  'htk': False,\n",
       "  'fs': 44100,\n",
       "  'win_length_samples': 1764,\n",
       "  'hop_length_samples': 882},\n",
       " 'mfcc_delta': {'width': 9,\n",
       "  'dependency_method': 'mfcc',\n",
       "  'fs': 44100,\n",
       "  'win_length_samples': 1764,\n",
       "  'hop_length_samples': 882,\n",
       "  'dependency_parameters': {'mono': True,\n",
       "   'window': 'hamming_asymmetric',\n",
       "   'spectrogram_type': 'magnitude',\n",
       "   'n_mfcc': 20,\n",
       "   'n_mels': 40,\n",
       "   'n_fft': 2048,\n",
       "   'fmin': 0,\n",
       "   'fmax': 22050,\n",
       "   'htk': False,\n",
       "   'fs': 44100,\n",
       "   'win_length_samples': 1764,\n",
       "   'hop_length_samples': 882}},\n",
       " 'mfcc_acceleration': {'width': 9,\n",
       "  'dependency_method': 'mfcc',\n",
       "  'fs': 44100,\n",
       "  'win_length_samples': 1764,\n",
       "  'hop_length_samples': 882,\n",
       "  'dependency_parameters': {'mono': True,\n",
       "   'window': 'hamming_asymmetric',\n",
       "   'spectrogram_type': 'magnitude',\n",
       "   'n_mfcc': 20,\n",
       "   'n_mels': 40,\n",
       "   'n_fft': 2048,\n",
       "   'fmin': 0,\n",
       "   'fmax': 22050,\n",
       "   'htk': False,\n",
       "   'fs': 44100,\n",
       "   'win_length_samples': 1764,\n",
       "   'hop_length_samples': 882}},\n",
       " 'mel': {'mono': True,\n",
       "  'window': 'hamming_asymmetric',\n",
       "  'spectrogram_type': 'magnitude',\n",
       "  'n_mels': 40,\n",
       "  'normalize_mel_bands': False,\n",
       "  'n_fft': 2048,\n",
       "  'fmin': 0,\n",
       "  'fmax': 22050,\n",
       "  'htk': True,\n",
       "  'log': True,\n",
       "  'fs': 44100,\n",
       "  'win_length_samples': 1764,\n",
       "  'hop_length_samples': 882}}"
      ]
     },
     "execution_count": 18,
     "metadata": {},
     "output_type": "execute_result"
    }
   ],
   "source": [
    "#app.initialize()\n",
    "#app.feature_extraction()\n",
    "from tqdm import tqdm\n",
    "\n",
    "# やっていく\n",
    "overwrite=True\n",
    "\n",
    "files=None\n",
    "\n",
    "#######\n",
    "# feature 作成用の data を準備\n",
    "#######\n",
    "if not files:\n",
    "    files = []\n",
    "    for event_label in app.dataset.event_labels:\n",
    "        for fold in app._get_active_folds():\n",
    "            for item_id, item in enumerate(app.dataset.train(fold, event_label=event_label)):\n",
    "                if item['file'] not in files:\n",
    "                    files.append(item['file'])\n",
    "            for item_id, item in enumerate(app.dataset.test(fold, event_label=event_label)):\n",
    "                if item['file'] not in files:\n",
    "                    files.append(item['file'])\n",
    "    files = sorted(files)\n",
    "\n",
    "\n",
    "feature_files = []\n",
    "feature_extractor = app.FeatureExtractor(overwrite=overwrite, store=True)\n",
    "\n",
    "feature_extractor\n",
    "\n",
    "for file_id, audio_filename in enumerate(tqdm(files,\n",
    "                                              desc='           {0:<15s}'.format('Extracting features '),\n",
    "                                              file=sys.stdout,\n",
    "                                              leave=False,\n",
    "                                              disable=app.disable_progress_bar,\n",
    "                                              ascii=app.use_ascii_progress_bar)):\n",
    "\n",
    "    if app.log_system_progress:\n",
    "        app.logger.info('  {title:<15s} [{file_id:d}/{total:d}] {file:<30s}'.format(\n",
    "            title='Extracting features ',\n",
    "            file_id=file_id,\n",
    "            total=len(files),\n",
    "            file=os.path.split(audio_filename)[-1])\n",
    "        )\n",
    "\n",
    "    # Get feature filename\n",
    "    current_feature_files = app._get_feature_filename(\n",
    "        audio_file=os.path.split(audio_filename)[1],\n",
    "        path=app.params.get_path('path.feature_extractor')\n",
    "    )\n",
    "\n",
    "    if not filelist_exists(current_feature_files) or overwrite:\n",
    "        feature_repository = feature_extractor.extract(\n",
    "            audio_file=app.dataset.relative_to_absolute_path(audio_filename),\n",
    "            extractor_params=DottedDict(app.params.get_path('feature_extractor.parameters')),\n",
    "            storage_paths=current_feature_files\n",
    "        )\n",
    "        \n",
    "    feature_files.append(current_feature_files)\n",
    "        \n",
    "FeatureExtractor().get_default_parameters()\n",
    "\n",
    "\n"
   ]
  },
  {
   "cell_type": "code",
   "execution_count": 27,
   "metadata": {},
   "outputs": [
    {
     "data": {
      "text/plain": [
       "(1501, 40)"
      ]
     },
     "execution_count": 27,
     "metadata": {},
     "output_type": "execute_result"
    }
   ],
   "source": [
    "feature_repository['mel']['feat'][0].shape"
   ]
  },
  {
   "cell_type": "code",
   "execution_count": 32,
   "metadata": {},
   "outputs": [
    {
     "data": {
      "text/plain": [
       "{'feat': [array([[ -5.002877 ,  -7.204636 ,  -7.887638 , ..., -11.675259 ,\n",
       "          -11.7941675, -12.186553 ],\n",
       "         [ -4.816158 ,  -6.169664 ,  -6.6384535, ..., -11.342943 ,\n",
       "          -11.678137 , -12.109688 ],\n",
       "         [ -4.704848 ,  -5.784425 ,  -6.270282 , ..., -11.4215975,\n",
       "          -11.667576 , -12.06991  ],\n",
       "         ...,\n",
       "         [ -5.7667813,  -5.778595 ,  -6.9095564, ..., -11.737999 ,\n",
       "          -11.727472 , -12.06486  ],\n",
       "         [ -5.7177258,  -6.202236 ,  -6.744507 , ..., -11.686974 ,\n",
       "          -11.807487 , -12.002305 ],\n",
       "         [ -6.074368 ,  -6.2238717,  -7.357516 , ..., -11.659121 ,\n",
       "          -11.758827 , -12.153561 ]], dtype=float32)],\n",
       " 'stat': None,\n",
       " 'meta': {'parameters': {'fs': 44100,\n",
       "   'win_length_seconds': 0.04,\n",
       "   'win_length_samples': 1764,\n",
       "   'hop_length_seconds': 0.02,\n",
       "   'hop_length_samples': 882},\n",
       "  'datetime': '2019-12-29 07:54:54',\n",
       "  'audio_file': '/store/projects/ml/mathG/DCASE2017/baseline/DCASE2017-baseline-system/applications/data/TUT-rare-sound-events-2017-development/generated_data/mixtures_devtrain_0367e094f3f5c81ef017d128ebff4a3c/audio/mixture_devtrain_gunshot_499_540db42d3da254d22ee9e4ad0361cb00.wav',\n",
       "  'extractor_version': None}}"
      ]
     },
     "execution_count": 32,
     "metadata": {},
     "output_type": "execute_result"
    }
   ],
   "source": [
    "# feature_stacker の役目を調べる\n",
    "\n",
    "feature_stacker = FeatureStacker(recipe=[{'method': 'mel'}])\n",
    "feature_matrix = feature_stacker.feature_vector(feature_repository=feature_repository)\n",
    "\n",
    "feature_matrix"
   ]
  },
  {
   "cell_type": "code",
   "execution_count": 33,
   "metadata": {},
   "outputs": [
    {
     "data": {
      "text/plain": [
       "{'mel': {'feat': [array([[ -5.002877 ,  -7.204636 ,  -7.887638 , ..., -11.675259 ,\n",
       "           -11.7941675, -12.186553 ],\n",
       "          [ -4.816158 ,  -6.169664 ,  -6.6384535, ..., -11.342943 ,\n",
       "           -11.678137 , -12.109688 ],\n",
       "          [ -4.704848 ,  -5.784425 ,  -6.270282 , ..., -11.4215975,\n",
       "           -11.667576 , -12.06991  ],\n",
       "          ...,\n",
       "          [ -5.7667813,  -5.778595 ,  -6.9095564, ..., -11.737999 ,\n",
       "           -11.727472 , -12.06486  ],\n",
       "          [ -5.7177258,  -6.202236 ,  -6.744507 , ..., -11.686974 ,\n",
       "           -11.807487 , -12.002305 ],\n",
       "          [ -6.074368 ,  -6.2238717,  -7.357516 , ..., -11.659121 ,\n",
       "           -11.758827 , -12.153561 ]], dtype=float32)],\n",
       "  'stat': None,\n",
       "  'meta': {'parameters': {'mono': True,\n",
       "    'window': 'hamming_asymmetric',\n",
       "    'spectrogram_type': 'magnitude',\n",
       "    'n_mels': 40,\n",
       "    'normalize_mel_bands': False,\n",
       "    'n_fft': 2048,\n",
       "    'fmin': 0,\n",
       "    'fmax': 22050,\n",
       "    'htk': False,\n",
       "    'log': True,\n",
       "    'fs': 44100,\n",
       "    'win_length_samples': 1764,\n",
       "    'hop_length_samples': 882,\n",
       "    'method': 'mel',\n",
       "    'win_length_seconds': 0.04,\n",
       "    'hop_length_seconds': 0.02,\n",
       "    '_hash': '57a55966f25a1b3722bd922a63c75875'},\n",
       "   'datetime': '2019-12-29 06:09:46',\n",
       "   'audio_file': '/store/projects/ml/mathG/DCASE2017/baseline/DCASE2017-baseline-system/applications/data/TUT-rare-sound-events-2017-development/generated_data/mixtures_devtrain_0367e094f3f5c81ef017d128ebff4a3c/audio/mixture_devtrain_gunshot_499_540db42d3da254d22ee9e4ad0361cb00.wav',\n",
       "   'extractor_version': '0.0.1'}}}"
      ]
     },
     "execution_count": 33,
     "metadata": {},
     "output_type": "execute_result"
    }
   ],
   "source": [
    "feature_repository\n"
   ]
  },
  {
   "cell_type": "code",
   "execution_count": null,
   "metadata": {},
   "outputs": [],
   "source": []
  }
 ],
 "metadata": {
  "kernelspec": {
   "display_name": "Python 3",
   "language": "python",
   "name": "python3"
  },
  "language_info": {
   "codemirror_mode": {
    "name": "ipython",
    "version": 3
   },
   "file_extension": ".py",
   "mimetype": "text/x-python",
   "name": "python",
   "nbconvert_exporter": "python",
   "pygments_lexer": "ipython3",
   "version": "3.6.9"
  }
 },
 "nbformat": 4,
 "nbformat_minor": 4
}
