{
 "cells": [
  {
   "cell_type": "code",
   "execution_count": 1,
   "metadata": {},
   "outputs": [],
   "source": [
    "# task2.py を逐次実行してみて中身を把握する\n",
    "\n",
    "import sys\n",
    "import os\n",
    "\n",
    "import numpy as np\n",
    "import argparse\n",
    "import textwrap\n",
    "\n",
    "\n",
    "import librosa\n",
    "import librosa.display\n",
    "import matplotlib.pyplot as plt\n",
    "import matplotlib.cm as cm\n",
    "from mpl_toolkits.axes_grid1 import make_axes_locatable\n",
    "\n",
    "sys.path.append('/store/projects/ml/mathG/DCASE2017/baseline/DCASE2017-baseline-system/')\n",
    "\n",
    "from dcase_framework.application_core import BinarySoundEventAppCore\n",
    "from dcase_framework.parameters import ParameterContainer\n",
    "from dcase_framework.utils import *\n"
   ]
  },
  {
   "cell_type": "code",
   "execution_count": 2,
   "metadata": {},
   "outputs": [
    {
     "data": {
      "text/plain": [
       "{}"
      ]
     },
     "execution_count": 2,
     "metadata": {},
     "output_type": "execute_result"
    }
   ],
   "source": [
    "project_base=os.path.dirname(os.path.realpath('../../../baseline/DCASE2017-baseline-system/applications/system/'))\n",
    "\n",
    "\n",
    "params = ParameterContainer(\n",
    "    project_base=project_base,\n",
    "    path_structure={\n",
    "        'feature_extractor': [\n",
    "            'dataset',\n",
    "            'feature_extractor.parameters.*'\n",
    "        ],\n",
    "        'feature_normalizer': [\n",
    "            'dataset',\n",
    "            'feature_extractor.parameters.*'\n",
    "        ],\n",
    "        'learner': [\n",
    "            'dataset',\n",
    "            'feature_extractor',\n",
    "            'feature_stacker',\n",
    "            'feature_normalizer',\n",
    "            'feature_aggregator',\n",
    "            'learner'\n",
    "        ],\n",
    "        'recognizer': [\n",
    "            'dataset',\n",
    "            'feature_extractor',\n",
    "            'feature_stacker',\n",
    "            'feature_normalizer',\n",
    "            'feature_aggregator',\n",
    "            'learner',\n",
    "            'recognizer'\n",
    "        ],\n",
    "    }\n",
    ")\n",
    "\n",
    "params"
   ]
  },
  {
   "cell_type": "code",
   "execution_count": 3,
   "metadata": {},
   "outputs": [
    {
     "name": "stderr",
     "output_type": "stream",
     "text": [
      "/store/projects/ml/mathG/DCASE2017/baseline/DCASE2017-baseline-system/dcase_framework/files.py:379: YAMLLoadWarning: calling yaml.load() without Loader=... is deprecated, as the default Loader is unsafe. Please read https://msg.pyyaml.org/load for full details.\n",
      "  dict.update(self, yaml.load(infile))\n"
     ]
    }
   ],
   "source": [
    "params.load(filename=project_base + '/parameters/task2.defaults.yaml')\n",
    "params['active_set'] = 'dcase2017_gpu'\n",
    "params.process() # 実行用のパラメータ構造に変える？\n",
    "\n",
    "\n",
    "setup_logging(parameter_container=params['logging'])\n",
    "\n",
    "#app.show_parameters()"
   ]
  },
  {
   "cell_type": "code",
   "execution_count": 4,
   "metadata": {},
   "outputs": [
    {
     "name": "stderr",
     "output_type": "stream",
     "text": [
      "[I] DCASE 2017::Detection of rare sound events / Baseline System\n",
      "[I] \n"
     ]
    }
   ],
   "source": [
    "class Task2AppCore(BinarySoundEventAppCore):\n",
    "    pass\n",
    "\n",
    "app = Task2AppCore(\n",
    "    name='DCASE 2017::Detection of rare sound events / Baseline System',\n",
    "    params=params,\n",
    "    system_desc=params.get('description'),\n",
    "    system_parameter_set_id=params.get('active_set'),\n",
    "    setup_label='Development setup',\n",
    "    log_system_progress=params.get_path('general.log_system_progress'),\n",
    "    show_progress_in_console=params.get_path('general.print_system_progress'),\n",
    "    use_ascii_progress_bar=params.get_path('general.use_ascii_progress_bar')\n",
    ")\n",
    "\n",
    "# app.initialize()"
   ]
  },
  {
   "cell_type": "code",
   "execution_count": 5,
   "metadata": {},
   "outputs": [
    {
     "name": "stderr",
     "output_type": "stream",
     "text": [
      "[I] Feature extractor\n",
      "[I] ==================================================\n",
      "[I] \n"
     ]
    },
    {
     "name": "stdout",
     "output_type": "stream",
     "text": [
      "                                                                         "
     ]
    },
    {
     "name": "stderr",
     "output_type": "stream",
     "text": [
      "[I]   DONE     [0:00:00.158139 ] [2987 items] \n",
      "[I] \n",
      "[I] Feature normalizer\n",
      "[I] ==================================================\n",
      "[I] \n"
     ]
    },
    {
     "name": "stdout",
     "output_type": "stream",
     "text": [
      "           Fold           :   0%|          | 0/1 [00:00<?, ?it/s]\n",
      "           Feature method :   0%|          | 0/1 [00:00<?, ?it/s]\u001b[A\n",
      "                                                                 \u001b[A\n",
      "           Feature method :   0%|          | 0/1 [00:00<?, ?it/s]\u001b[A\n",
      "                                                                 \u001b[A\n",
      "           Feature method :   0%|          | 0/1 [00:00<?, ?it/s]\u001b[A\n",
      "                                                                 \u001b[A"
     ]
    },
    {
     "name": "stderr",
     "output_type": "stream",
     "text": [
      "[I]   DONE     [0:00:00.007389 ] \n",
      "[I] \n",
      "[I] System training\n",
      "[I] ==================================================\n",
      "[I] \n"
     ]
    },
    {
     "name": "stdout",
     "output_type": "stream",
     "text": [
      "           Fold           :   0%|          | 0/1 [00:00<?, ?it/s]\n",
      "                    Event :   0%|          | 0/3 [00:00<?, ?it/s]\u001b[A\n",
      "                                                                 \u001b[A"
     ]
    },
    {
     "name": "stderr",
     "output_type": "stream",
     "text": [
      "[I]   DONE     [0:00:00.004338 ] \n",
      "[I] \n"
     ]
    },
    {
     "name": "stdout",
     "output_type": "stream",
     "text": [
      "\r"
     ]
    }
   ],
   "source": [
    "#app.initialize()\n",
    "app.feature_extraction()\n",
    "app.feature_normalization()\n",
    "app.system_training()\n",
    "\n",
    "# app.system_testing()\n"
   ]
  },
  {
   "cell_type": "code",
   "execution_count": null,
   "metadata": {},
   "outputs": [
    {
     "name": "stdout",
     "output_type": "stream",
     "text": [
      "                     Fold :   0%|          | 0/1 [00:00<?, ?it/s]['babycry', 'glassbreak', 'gunshot']\n",
      "\n",
      "                    Event :   0%|          | 0/3 [00:00<?, ?it/s]\u001b[A\n",
      "\n",
      "                  Testing :   0%|          | 0/496 [00:00<?, ?it/s]\u001b[A\u001b[A> \u001b[0;32m<ipython-input-6-028e652d3545>\u001b[0m(143)\u001b[0;36m<module>\u001b[0;34m()\u001b[0m\n",
      "\u001b[0;32m    141 \u001b[0;31m                    \u001b[0;32mfrom\u001b[0m \u001b[0mIPython\u001b[0m\u001b[0;34m.\u001b[0m\u001b[0mcore\u001b[0m\u001b[0;34m.\u001b[0m\u001b[0mdebugger\u001b[0m \u001b[0;32mimport\u001b[0m \u001b[0mPdb\u001b[0m\u001b[0;34m;\u001b[0m \u001b[0mPdb\u001b[0m\u001b[0;34m(\u001b[0m\u001b[0;34m)\u001b[0m\u001b[0;34m.\u001b[0m\u001b[0mset_trace\u001b[0m\u001b[0;34m(\u001b[0m\u001b[0;34m)\u001b[0m\u001b[0;34m\u001b[0m\u001b[0;34m\u001b[0m\u001b[0m\n",
      "\u001b[0m\u001b[0;32m    142 \u001b[0;31m                    \u001b[0;31m# Aggregate features\u001b[0m\u001b[0;34m\u001b[0m\u001b[0;34m\u001b[0m\u001b[0;34m\u001b[0m\u001b[0m\n",
      "\u001b[0m\u001b[0;32m--> 143 \u001b[0;31m                    \u001b[0;32mif\u001b[0m \u001b[0mmodel_container\u001b[0m\u001b[0;34m.\u001b[0m\u001b[0mfeature_aggregator\u001b[0m\u001b[0;34m:\u001b[0m\u001b[0;34m\u001b[0m\u001b[0;34m\u001b[0m\u001b[0m\n",
      "\u001b[0m\u001b[0;32m    144 \u001b[0;31m                        \u001b[0mfeature_data\u001b[0m \u001b[0;34m=\u001b[0m \u001b[0mmodel_container\u001b[0m\u001b[0;34m.\u001b[0m\u001b[0mfeature_aggregator\u001b[0m\u001b[0;34m.\u001b[0m\u001b[0mprocess\u001b[0m\u001b[0;34m(\u001b[0m\u001b[0mfeature_data\u001b[0m\u001b[0;34m)\u001b[0m\u001b[0;34m\u001b[0m\u001b[0;34m\u001b[0m\u001b[0m\n",
      "\u001b[0m\u001b[0;32m    145 \u001b[0;31m\u001b[0;34m\u001b[0m\u001b[0m\n",
      "\u001b[0m\n"
     ]
    },
    {
     "name": "stdin",
     "output_type": "stream",
     "text": [
      "ipdb>  c\n"
     ]
    },
    {
     "name": "stdout",
     "output_type": "stream",
     "text": [
      "> /store/projects/ml/mathG/DCASE2017/baseline/DCASE2017-baseline-system/dcase_framework/features.py(1666)process()\n",
      "-> start_frame = int(frame - numpy.floor(self.win_length_frames/2.0))\n"
     ]
    },
    {
     "name": "stdin",
     "output_type": "stream",
     "text": [
      "(Pdb)  c\n"
     ]
    },
    {
     "name": "stdout",
     "output_type": "stream",
     "text": [
      "> /store/projects/ml/mathG/DCASE2017/baseline/DCASE2017-baseline-system/dcase_framework/features.py(1681)process()\n",
      "-> if 'mean' in self.recipe:\n"
     ]
    },
    {
     "name": "stdin",
     "output_type": "stream",
     "text": [
      "(Pdb)  current_frame.shpe\n"
     ]
    },
    {
     "name": "stdout",
     "output_type": "stream",
     "text": [
      "*** AttributeError: 'numpy.ndarray' object has no attribute 'shpe'\n"
     ]
    },
    {
     "name": "stdin",
     "output_type": "stream",
     "text": [
      "(Pdb)  current_frame.shape\n"
     ]
    },
    {
     "name": "stdout",
     "output_type": "stream",
     "text": [
      "(5, 40)\n"
     ]
    }
   ],
   "source": [
    "# system_tesing を逐次実行で確認\n",
    "from dcase_framework.metadata import MetaDataContainer, MetaDataItem\n",
    "from dcase_framework.features import FeatureContainer, FeatureRepository, FeatureExtractor, FeatureNormalizer, \\\n",
    "    FeatureStacker, FeatureAggregator, FeatureMasker\n",
    "\n",
    "\n",
    "from tqdm import tqdm\n",
    "from six import iteritems\n",
    "\n",
    "overwrite = True\n",
    "\n",
    "fold_progress = tqdm(app._get_active_folds(),\n",
    "                     desc=\"           {0: >15s}\".format('Fold '),\n",
    "                     file=sys.stdout,\n",
    "                     leave=False,\n",
    "                     miniters=1,\n",
    "                     disable=app.disable_progress_bar,\n",
    "                     ascii=app.use_ascii_progress_bar)\n",
    "\n",
    "for fold in fold_progress:\n",
    "    if app.log_system_progress:\n",
    "        app.logger.info('  {title:<15s} [{fold:d}/{total:d}]'.format(title='Fold',\n",
    "                                                                      fold=fold,\n",
    "                                                                      total=len(fold_progress)))\n",
    "\n",
    "    event_labels = app.dataset.event_labels\n",
    "    print(event_labels)\n",
    "    #if app.params.get_path('recognizer.active_events'):\n",
    "    #    event_labels = list(set(event_labels).intersection(app.params.get_path('recognizer.active_events'))) -> None\n",
    "\n",
    "    event_progress = tqdm(event_labels,\n",
    "                          desc=\"           {0: >15s}\".format('Event '),\n",
    "                          file=sys.stdout,\n",
    "                          leave=False,\n",
    "                          miniters=1,\n",
    "                          disable=app.disable_progress_bar,\n",
    "                          ascii=app.use_ascii_progress_bar)\n",
    "    \n",
    "    single_file_per_fold = False\n",
    "    if single_file_per_fold:\n",
    "        current_result_file = app._get_result_filename(\n",
    "            fold=fold,\n",
    "            path=app.params.get_path('path.recognizer')\n",
    "        )\n",
    "        if not os.path.isfile(current_result_file) or overwrite:\n",
    "            results = MetaDataContainer(filename=current_result_file)\n",
    "\n",
    "    for event_label in event_progress:\n",
    "        if not single_file_per_fold:\n",
    "            current_result_file = app._get_result_filename(\n",
    "                fold=fold,\n",
    "                path=app.params.get_path('path.recognizer'),\n",
    "                event_label=event_label\n",
    "            )\n",
    "            if not os.path.isfile(current_result_file) or overwrite:\n",
    "                results = MetaDataContainer(filename=current_result_file)\n",
    "                \n",
    "\n",
    "        if not os.path.isfile(current_result_file) or overwrite:\n",
    "            # Load class model container\n",
    "#             model_filename = app._get_model_filename(\n",
    "#                 fold=fold,\n",
    "#                 path=app.params.get_path('path.learner'),\n",
    "#                 event_label=event_label\n",
    "#             )\n",
    "            model_filename = '/store/projects/ml/mathG/DCASE2017/baseline/DCASE2017-baseline-system/applications/system/task2/learner/dataset_c17f65145b5c15a1a0afc148dc881423/feature_extractor_55ff217ecf31320b4d18e4e1d8f62a94/feature_stacker_d1b7b226d0bb278b6b3aab557e501d2c/feature_normalizer_86c6764b339414c628793552d084ff29/feature_aggregator_db31e2e54edd841b744da9dc385ab466/learner_d33fae90cf8ac2f03c749de5cd551af3/model_fold1_babycry.cpickle'\n",
    "\n",
    "            \n",
    "            if os.path.isfile(model_filename):\n",
    "                model_container = app._get_learner(method=app.params.get_path('learner.method')).load(\n",
    "                    filename=model_filename)\n",
    "            else:\n",
    "                message = '{name}: Model file not found [{file}]'.format(\n",
    "                    name=app.__class__.__name__,\n",
    "                    file=model_filename\n",
    "                )\n",
    "\n",
    "                app.logger.exception(message)\n",
    "                raise IOError(message)\n",
    "\n",
    "\n",
    "            item_progress = tqdm(app.dataset.test(fold, event_label=event_label),\n",
    "                                 desc=\"           {0: >15s}\".format('Testing '),\n",
    "                                 file=sys.stdout,\n",
    "                                 leave=False,\n",
    "                                 disable=app.disable_progress_bar,\n",
    "                                 ascii=app.use_ascii_progress_bar)\n",
    "\n",
    "            # ================ debugger ======================\n",
    "#             from IPython.core.debugger import Pdb; Pdb().set_trace()\n",
    "            \n",
    "            for item_id, item in enumerate(item_progress):\n",
    "                if app.log_system_progress:\n",
    "                    app.logger.info(\n",
    "                        '  {title:<15s} [{item_id:3s}/{total:3s}] {item:<20s}'.format(\n",
    "                            title='Testing',\n",
    "                            item_id='{:d}'.format(item_id),\n",
    "                            total='{:d}'.format(len(item_progress)),\n",
    "                            item=os.path.split(item['file'])[-1])\n",
    "                        )\n",
    "\n",
    "                # Load features\n",
    "                feature_filenames = app._get_feature_filename(\n",
    "                    audio_file=item['file'],\n",
    "                    path=app.params.get_path('path.feature_extractor')\n",
    "                )\n",
    "\n",
    "                # ================ debugger ======================\n",
    "#                 from IPython.core.debugger import Pdb; Pdb().set_trace()\n",
    "\n",
    "                feature_list = {}\n",
    "                for method, feature_filename in iteritems(feature_filenames):\n",
    "                    if os.path.isfile(feature_filename):\n",
    "                        feature_list[method] = FeatureContainer().load(filename=feature_filename)\n",
    "                    else:\n",
    "                        message = '{name}: Features not found [{file}]'.format(\n",
    "                            name=app.__class__.__name__,\n",
    "                            file=item['file']\n",
    "                        )\n",
    "\n",
    "                        app.logger.exception(message)\n",
    "                        raise IOError(message)\n",
    "\n",
    "\n",
    "                        \n",
    "                if hasattr(model_container, 'data_processor'):\n",
    "                    # Leave feature and data processing to DataProcessor stored inside the model\n",
    "                    feature_data = feature_list\n",
    "\n",
    "                else:\n",
    "                    # Backward compatibility mode\n",
    "                    feature_data = model_container.feature_stacker.process(\n",
    "                        feature_data=feature_list\n",
    "                    )\n",
    "\n",
    "                    # Normalize features\n",
    "                    if model_container.feature_normalizer:\n",
    "                        feature_data = model_container.feature_normalizer.normalize(feature_data)\n",
    "\n",
    "                    # ================ debugger ======================\n",
    "                    from IPython.core.debugger import Pdb; Pdb().set_trace()\n",
    "                    # Aggregate features\n",
    "                    if model_container.feature_aggregator:\n",
    "                        feature_data = model_container.feature_aggregator.process(feature_data)\n",
    "\n",
    "                # Frame probabilities\n",
    "                frame_probabilities = model_container.predict(\n",
    "                    feature_data=feature_data,\n",
    "                )\n",
    "\n",
    "                \n",
    "                \n",
    "                # Event recognizer\n",
    "                current_result = app.EventRecognizer(\n",
    "                    hop_length_seconds=model_container.params.get_path('hop_length_seconds'),\n",
    "                    params=app.params.get_path('recognizer'),\n",
    "                    class_labels=model_container.class_labels\n",
    "                ).process(\n",
    "                    frame_probabilities=frame_probabilities\n",
    "                )\n",
    "\n",
    "                if current_result:\n",
    "                    for event in current_result:\n",
    "                        event.file = app.dataset.absolute_to_relative(item['file'])\n",
    "                        results.append(event)\n",
    "                else:\n",
    "                    results.append(MetaDataItem({'file': app.dataset.absolute_to_relative(item['file'])}))\n",
    "\n",
    "            if not single_file_per_fold:\n",
    "                # Save testing results\n",
    "                results.save()\n",
    "\n",
    "\n",
    "        \n",
    "app.params.get_path('recognizer.event_handling') == 'event-dependent'\n",
    " "
   ]
  },
  {
   "cell_type": "code",
   "execution_count": 16,
   "metadata": {},
   "outputs": [
    {
     "data": {
      "text/plain": [
       "(1501, 200)"
      ]
     },
     "execution_count": 16,
     "metadata": {},
     "output_type": "execute_result"
    }
   ],
   "source": [
    "model_container.feature_aggregator.process(feature_data)['feat'][0].shape\n",
    "\n",
    "\n",
    "\n",
    "\n",
    "\n",
    "\n"
   ]
  },
  {
   "cell_type": "code",
   "execution_count": 13,
   "metadata": {},
   "outputs": [
    {
     "data": {
      "text/plain": [
       "(1501, 40)"
      ]
     },
     "execution_count": 13,
     "metadata": {},
     "output_type": "execute_result"
    }
   ],
   "source": [
    "feature_data['feat'][0].shape"
   ]
  },
  {
   "cell_type": "code",
   "execution_count": 40,
   "metadata": {},
   "outputs": [
    {
     "data": {
      "text/plain": [
       "(1501, 40)"
      ]
     },
     "execution_count": 40,
     "metadata": {},
     "output_type": "execute_result"
    }
   ],
   "source": [
    "feature_list['mel']['feat'][0].shape"
   ]
  },
  {
   "cell_type": "code",
   "execution_count": 41,
   "metadata": {},
   "outputs": [],
   "source": [
    "feature_data = model_container.feature_stacker.process(\n",
    "    feature_data=feature_list\n",
    ")\n"
   ]
  },
  {
   "cell_type": "code",
   "execution_count": 42,
   "metadata": {},
   "outputs": [
    {
     "data": {
      "text/plain": [
       "{'feat': [array([[ -4.9921308,  -6.8127418,  -8.27339  , ..., -11.935065 ,\n",
       "          -12.281855 , -12.7022915],\n",
       "         [ -5.31972  ,  -6.123804 ,  -7.168656 , ..., -11.131154 ,\n",
       "          -11.4557295, -12.012918 ],\n",
       "         [ -4.727575 ,  -6.4510207,  -7.4674263, ..., -11.562244 ,\n",
       "          -11.813134 , -12.33866  ],\n",
       "         ...,\n",
       "         [ -5.136989 ,  -5.7218328,  -6.880217 , ..., -12.093683 ,\n",
       "          -12.210219 , -12.4502325],\n",
       "         [ -4.8826995,  -5.775437 ,  -7.178931 , ..., -11.99949  ,\n",
       "          -12.115118 , -12.499706 ],\n",
       "         [ -5.3415813,  -6.4713783,  -6.4889216, ..., -12.394382 ,\n",
       "          -12.423141 , -12.574921 ]], dtype=float32)],\n",
       " 'stat': None,\n",
       " 'meta': {'parameters': {'fs': 44100,\n",
       "   'win_length_seconds': 0.04,\n",
       "   'win_length_samples': 1764,\n",
       "   'hop_length_seconds': 0.02,\n",
       "   'hop_length_samples': 882},\n",
       "  'datetime': '2019-12-29 01:36:54',\n",
       "  'audio_file': '/store/projects/ml/mathG/DCASE2017/baseline/DCASE2017-baseline-system/applications/data/TUT-rare-sound-events-2017-development/generated_data/mixtures_devtest_0367e094f3f5c81ef017d128ebff4a3c/audio/mixture_devtest_babycry_000_c02f92b79f2bbefa98d008f3c2d9b704.wav',\n",
       "  'extractor_version': None}}"
      ]
     },
     "execution_count": 42,
     "metadata": {},
     "output_type": "execute_result"
    }
   ],
   "source": [
    "fe"
   ]
  },
  {
   "cell_type": "code",
   "execution_count": 10,
   "metadata": {},
   "outputs": [
    {
     "data": {
      "text/plain": [
       "(1501, 40)"
      ]
     },
     "execution_count": 10,
     "metadata": {},
     "output_type": "execute_result"
    }
   ],
   "source": [
    "feature_data['feat'][0].shape"
   ]
  },
  {
   "cell_type": "code",
   "execution_count": 44,
   "metadata": {},
   "outputs": [],
   "source": [
    "# Normalize features\n",
    "if model_container.feature_normalizer:\n",
    "    feature_data = model_container.feature_normalizer.normalize(feature_data)\n",
    "\n"
   ]
  },
  {
   "cell_type": "code",
   "execution_count": 11,
   "metadata": {},
   "outputs": [],
   "source": [
    "data = feature_data['feat'][0] "
   ]
  },
  {
   "cell_type": "code",
   "execution_count": 17,
   "metadata": {},
   "outputs": [
    {
     "data": {
      "text/plain": [
       "(10, 40)"
      ]
     },
     "execution_count": 17,
     "metadata": {},
     "output_type": "execute_result"
    }
   ],
   "source": [
    "window = 10\n",
    "\n",
    "current_frame = data[0: window]\n",
    "current_frame.shape\n"
   ]
  },
  {
   "cell_type": "code",
   "execution_count": 47,
   "metadata": {},
   "outputs": [
    {
     "data": {
      "text/plain": [
       "array([-0.36834243, -0.97110495, -1.75990413, -0.86744295, -0.61749806,\n",
       "       -0.53168002, -0.06657085, -0.41225926, -0.5221846 , -0.65945249,\n",
       "       -0.72783925, -0.91174275, -0.71849658, -0.13726441, -0.20630142,\n",
       "       -0.00586321, -0.12863739,  0.08363921, -0.02463846, -0.01158372,\n",
       "       -0.24910778, -0.33474139, -0.13847547, -0.40221948, -0.58989804,\n",
       "       -0.34303652, -0.12239632, -0.16275208, -0.12377683, -0.18901634,\n",
       "       -0.57300555, -0.95947006, -0.24280054,  0.62659029,  0.44254088,\n",
       "       -0.26327022, -0.70951026, -0.66159259, -0.96034486, -1.09596488,\n",
       "       -0.36834243, -0.97110495, -1.75990413, -0.86744295, -0.61749806,\n",
       "       -0.53168002, -0.06657085, -0.41225926, -0.5221846 , -0.65945249,\n",
       "       -0.72783925, -0.91174275, -0.71849658, -0.13726441, -0.20630142,\n",
       "       -0.00586321, -0.12863739,  0.08363921, -0.02463846, -0.01158372,\n",
       "       -0.24910778, -0.33474139, -0.13847547, -0.40221948, -0.58989804,\n",
       "       -0.34303652, -0.12239632, -0.16275208, -0.12377683, -0.18901634,\n",
       "       -0.57300555, -0.95947006, -0.24280054,  0.62659029,  0.44254088,\n",
       "       -0.26327022, -0.70951026, -0.66159259, -0.96034486, -1.09596488,\n",
       "       -0.36834243, -0.97110495, -1.75990413, -0.86744295, -0.61749806,\n",
       "       -0.53168002, -0.06657085, -0.41225926, -0.5221846 , -0.65945249,\n",
       "       -0.72783925, -0.91174275, -0.71849658, -0.13726441, -0.20630142,\n",
       "       -0.00586321, -0.12863739,  0.08363921, -0.02463846, -0.01158372,\n",
       "       -0.24910778, -0.33474139, -0.13847547, -0.40221948, -0.58989804,\n",
       "       -0.34303652, -0.12239632, -0.16275208, -0.12377683, -0.18901634,\n",
       "       -0.57300555, -0.95947006, -0.24280054,  0.62659029,  0.44254088,\n",
       "       -0.26327022, -0.70951026, -0.66159259, -0.96034486, -1.09596488,\n",
       "       -0.59815404, -0.47534485, -0.87804869, -0.80478288, -0.62175451,\n",
       "       -0.16249564, -0.34637553, -0.48891619,  0.01138674,  0.3674035 ,\n",
       "       -0.04194278, -0.06061515,  0.01113705, -0.02555631, -0.14396388,\n",
       "        0.36511259,  0.03708565,  0.224974  ,  0.26632   ,  0.14573202,\n",
       "        0.18613967, -0.00473059, -0.09692595, -0.16854673,  0.09599275,\n",
       "        0.21617579,  0.13071622, -0.09619407,  0.23566933,  0.02003048,\n",
       "       -0.42467063, -0.61771213,  0.41264598,  1.87560473,  1.92911746,\n",
       "        0.85640029,  0.13191975,  0.33052719,  0.12902021, -0.25402945,\n",
       "       -0.18275007, -0.7108102 , -1.11654261, -0.66021607, -0.4496387 ,\n",
       "       -0.23450595,  0.08120844,  0.1083299 , -0.02947886, -0.15519366,\n",
       "       -0.2617917 , -0.07451941, -0.18322109, -0.49595068, -0.1479251 ,\n",
       "       -0.35523268,  0.08865273,  0.29073838,  0.47311298,  0.44780875,\n",
       "        0.22753672, -0.2383338 , -0.06412304, -0.0556764 ,  0.14143462,\n",
       "        0.27653837,  0.18808474,  0.06266651,  0.14705614, -0.05714025,\n",
       "       -0.34514698, -0.78831371, -0.39306563,  0.27252065,  0.19457855,\n",
       "       -0.04249131, -0.28873889, -0.20148837, -0.34226941, -0.65185984])"
      ]
     },
     "execution_count": 47,
     "metadata": {},
     "output_type": "execute_result"
    }
   ],
   "source": [
    "# Aggregate features\n",
    "if model_container.feature_aggregator:\n",
    "    feature_data = model_container.feature_aggregator.process(feature_data)\n",
    "\n",
    "feature_data['feat'][0][0,:]"
   ]
  },
  {
   "cell_type": "code",
   "execution_count": 9,
   "metadata": {},
   "outputs": [
    {
     "data": {
      "text/plain": [
       "{'enable': True,\n",
       " 'aggregation_recipe': [{'method': 'flatten'}],\n",
       " 'win_length_seconds': 0.1,\n",
       " 'hop_length_seconds': 0.02,\n",
       " 'win_length_frames': 5,\n",
       " 'hop_length_frames': 1,\n",
       " '_hash': 'db31e2e54edd841b744da9dc385ab466'}"
      ]
     },
     "execution_count": 9,
     "metadata": {},
     "output_type": "execute_result"
    }
   ],
   "source": [
    "params.get_path('feature_aggregator')"
   ]
  },
  {
   "cell_type": "code",
   "execution_count": null,
   "metadata": {},
   "outputs": [],
   "source": []
  },
  {
   "cell_type": "code",
   "execution_count": null,
   "metadata": {},
   "outputs": [],
   "source": []
  }
 ],
 "metadata": {
  "kernelspec": {
   "display_name": "Python 3",
   "language": "python",
   "name": "python3"
  },
  "language_info": {
   "codemirror_mode": {
    "name": "ipython",
    "version": 3
   },
   "file_extension": ".py",
   "mimetype": "text/x-python",
   "name": "python",
   "nbconvert_exporter": "python",
   "pygments_lexer": "ipython3",
   "version": "3.6.9"
  }
 },
 "nbformat": 4,
 "nbformat_minor": 4
}
